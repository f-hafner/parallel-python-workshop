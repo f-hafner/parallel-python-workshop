{
 "cells": [
  {
   "cell_type": "markdown",
   "id": "f72837cb-3dcd-4ff3-b008-7b71182f36ad",
   "metadata": {},
   "source": [
    "### Using numba"
   ]
  },
  {
   "cell_type": "code",
   "execution_count": 19,
   "id": "2689b3e9-a0b3-494f-a653-074ef8f8b083",
   "metadata": {
    "tags": []
   },
   "outputs": [],
   "source": [
    "import dask.array as da \n",
    "\n",
    "def calc_pi_dask(N):\n",
    "    points = da.random.uniform(-1, 1, (2, N))\n",
    "    work = da.count_nonzero((points**2).sum(axis=0) < 1)\n",
    "    M = work.compute(num_workers = 4)\n",
    "    return 4 * M / N"
   ]
  },
  {
   "cell_type": "code",
   "execution_count": 20,
   "id": "826aa36c-83ce-4dd1-9389-9a3028665e96",
   "metadata": {
    "tags": []
   },
   "outputs": [
    {
     "data": {
      "text/plain": [
       "3.142636"
      ]
     },
     "execution_count": 20,
     "metadata": {},
     "output_type": "execute_result"
    }
   ],
   "source": [
    "calc_pi_dask(10**6)"
   ]
  },
  {
   "cell_type": "code",
   "execution_count": null,
   "id": "1e2efc53-2ce9-456b-a181-af98d8e8f4da",
   "metadata": {},
   "outputs": [],
   "source": []
  },
  {
   "cell_type": "code",
   "execution_count": null,
   "id": "b1ea60ca-ab90-4ddd-91fc-f60970b43195",
   "metadata": {},
   "outputs": [],
   "source": []
  },
  {
   "cell_type": "code",
   "execution_count": null,
   "id": "8a3f3c30-2a07-4f1e-add6-7bd9c66f9533",
   "metadata": {},
   "outputs": [],
   "source": []
  },
  {
   "cell_type": "code",
   "execution_count": 4,
   "id": "22ed7505-13a5-46c0-9360-621caf4ec640",
   "metadata": {
    "tags": []
   },
   "outputs": [],
   "source": [
    "import numba \n",
    "\n",
    "@numba.jit\n",
    "def sum_range_numba(a):\n",
    "    x = 0 \n",
    "    for i in range(a):\n",
    "        x += i\n",
    "    \n",
    "    return x \n",
    "\n"
   ]
  },
  {
   "cell_type": "code",
   "execution_count": 5,
   "id": "db1e90df-a1b9-4cd4-982f-6a9fc8063454",
   "metadata": {
    "tags": []
   },
   "outputs": [
    {
     "data": {
      "text/plain": [
       "4950"
      ]
     },
     "execution_count": 5,
     "metadata": {},
     "output_type": "execute_result"
    }
   ],
   "source": [
    "sum_range_numba(100)"
   ]
  },
  {
   "cell_type": "code",
   "execution_count": 9,
   "id": "7c4fedbc-9397-4c67-8f0f-6daf98f31dee",
   "metadata": {
    "tags": []
   },
   "outputs": [],
   "source": [
    "import numpy as np"
   ]
  },
  {
   "cell_type": "code",
   "execution_count": 6,
   "id": "e4d8a9d6-5689-4893-9d54-d52c5bd7017f",
   "metadata": {
    "tags": []
   },
   "outputs": [
    {
     "name": "stdout",
     "output_type": "stream",
     "text": [
      "160 ms ± 8.57 ms per loop (mean ± std. dev. of 7 runs, 10 loops each)\n"
     ]
    }
   ],
   "source": [
    "# naive python\n",
    "time_naive = %timeit -o sum(range(10**7))"
   ]
  },
  {
   "cell_type": "code",
   "execution_count": 10,
   "id": "4257eb3f-94de-424b-8e40-b4d5797d9339",
   "metadata": {
    "tags": []
   },
   "outputs": [
    {
     "name": "stdout",
     "output_type": "stream",
     "text": [
      "17.4 ms ± 265 µs per loop (mean ± std. dev. of 7 runs, 100 loops each)\n"
     ]
    }
   ],
   "source": [
    "# numpy \n",
    "time_numpy = %timeit -o np.arange(10**7).sum()"
   ]
  },
  {
   "cell_type": "code",
   "execution_count": 11,
   "id": "f85862e3-d70f-43cf-9822-74f7cd6f0bc2",
   "metadata": {
    "tags": []
   },
   "outputs": [
    {
     "name": "stdout",
     "output_type": "stream",
     "text": [
      "200 ns ± 27.2 ns per loop (mean ± std. dev. of 7 runs, 1,000,000 loops each)\n"
     ]
    }
   ],
   "source": [
    "# numba \n",
    "time_numba = %timeit -o sum_range_numba(10**7)"
   ]
  },
  {
   "cell_type": "code",
   "execution_count": 14,
   "id": "a855c16e-3879-4a51-941b-3dd2a66ff359",
   "metadata": {
    "tags": []
   },
   "outputs": [
    {
     "data": {
      "text/plain": [
       "86929.18703421293"
      ]
     },
     "execution_count": 14,
     "metadata": {},
     "output_type": "execute_result"
    }
   ],
   "source": [
    "time_numpy.average / time_numba.average"
   ]
  },
  {
   "cell_type": "code",
   "execution_count": 15,
   "id": "b5a721dc-96a6-4d4d-ae51-99b5a7c423aa",
   "metadata": {
    "tags": []
   },
   "outputs": [
    {
     "name": "stdout",
     "output_type": "stream",
     "text": [
      "CPU times: user 7 µs, sys: 2 µs, total: 9 µs\n",
      "Wall time: 11.9 µs\n"
     ]
    },
    {
     "data": {
      "text/plain": [
       "49999995000000"
      ]
     },
     "execution_count": 15,
     "metadata": {},
     "output_type": "execute_result"
    }
   ],
   "source": [
    "%time sum_range_numba(10**7)"
   ]
  },
  {
   "cell_type": "code",
   "execution_count": 16,
   "id": "4f787573-1591-4c3a-9140-afef7a5acec8",
   "metadata": {
    "tags": []
   },
   "outputs": [
    {
     "name": "stdout",
     "output_type": "stream",
     "text": [
      "CPU times: user 95.4 ms, sys: 0 ns, total: 95.4 ms\n",
      "Wall time: 94.1 ms\n"
     ]
    },
    {
     "data": {
      "text/plain": [
       "49999995000000"
      ]
     },
     "execution_count": 16,
     "metadata": {},
     "output_type": "execute_result"
    }
   ],
   "source": [
    "%time sum_range_numba(10.**7)"
   ]
  },
  {
   "cell_type": "code",
   "execution_count": 18,
   "id": "bfb3907b-7e02-4e98-aec5-eeb85339fb3d",
   "metadata": {
    "tags": []
   },
   "outputs": [
    {
     "name": "stdout",
     "output_type": "stream",
     "text": [
      "CPU times: user 13 µs, sys: 0 ns, total: 13 µs\n",
      "Wall time: 18.4 µs\n"
     ]
    },
    {
     "data": {
      "text/plain": [
       "49999995000000"
      ]
     },
     "execution_count": 18,
     "metadata": {},
     "output_type": "execute_result"
    }
   ],
   "source": [
    "%time sum_range_numba(10.**7)"
   ]
  },
  {
   "cell_type": "code",
   "execution_count": 21,
   "id": "2d58c5f0-17bc-4b1a-bc4d-06c59c2970f6",
   "metadata": {
    "tags": []
   },
   "outputs": [
    {
     "name": "stdout",
     "output_type": "stream",
     "text": [
      "35.4 ms ± 3.84 ms per loop (mean ± std. dev. of 7 runs, 10 loops each)\n"
     ]
    }
   ],
   "source": [
    "%timeit calc_pi_dask(10**6)"
   ]
  },
  {
   "cell_type": "code",
   "execution_count": 24,
   "id": "63f813f1-07fa-4765-ba58-c28d1f15dff3",
   "metadata": {
    "tags": []
   },
   "outputs": [],
   "source": [
    "import random"
   ]
  },
  {
   "cell_type": "code",
   "execution_count": 25,
   "id": "37b7c245-4c3e-4d22-9939-a6def78ed954",
   "metadata": {
    "tags": []
   },
   "outputs": [],
   "source": [
    "@numba.jit\n",
    "def calc_pi_numba(N):\n",
    "    M = 0 \n",
    "    for i in range(N):\n",
    "        x = random.uniform(-1, 1)\n",
    "        y = random.uniform(-1, 1)\n",
    "        if x**2 + y**2 < 1:\n",
    "            M += 1\n",
    "            \n",
    "    return 4*M/N"
   ]
  },
  {
   "cell_type": "code",
   "execution_count": 26,
   "id": "ed41466b-7f11-4238-94b0-a034a570f354",
   "metadata": {
    "tags": []
   },
   "outputs": [
    {
     "data": {
      "text/plain": [
       "3.14484"
      ]
     },
     "execution_count": 26,
     "metadata": {},
     "output_type": "execute_result"
    }
   ],
   "source": [
    "calc_pi_numba(10**5)"
   ]
  },
  {
   "cell_type": "code",
   "execution_count": 32,
   "id": "a3512dac-e2ff-4255-be6e-cac86b25e4b5",
   "metadata": {
    "tags": []
   },
   "outputs": [
    {
     "name": "stdout",
     "output_type": "stream",
     "text": [
      "996 ms ± 32.3 ms per loop (mean ± std. dev. of 7 runs, 1 loop each)\n"
     ]
    }
   ],
   "source": [
    "%timeit calc_pi_numba(10**6)"
   ]
  },
  {
   "cell_type": "code",
   "execution_count": 40,
   "id": "b1d8b032-cf74-4f34-ae81-0fe8e3afdfd6",
   "metadata": {
    "tags": []
   },
   "outputs": [],
   "source": [
    "@numba.jit\n",
    "def calc_pi_dask_numba(N):\n",
    "    points = da.random.uniform(-1, 1, (2, N))\n",
    "    work = da.count_nonzero((points**2).sum(axis=0) < 1)\n",
    "    M = work.compute(num_workers = 4)\n",
    "    return 4 * M / N"
   ]
  },
  {
   "cell_type": "code",
   "execution_count": null,
   "id": "92f590ce-d62e-413d-b305-418666f88f8a",
   "metadata": {},
   "outputs": [],
   "source": []
  },
  {
   "cell_type": "code",
   "execution_count": null,
   "id": "a0265dda-ec87-4485-944c-fef4761b3b57",
   "metadata": {},
   "outputs": [],
   "source": []
  },
  {
   "cell_type": "code",
   "execution_count": 41,
   "id": "64659b66-a941-40a9-93d6-ff39ff5f3c19",
   "metadata": {
    "tags": []
   },
   "outputs": [
    {
     "name": "stderr",
     "output_type": "stream",
     "text": [
      "/tmp/ipykernel_36944/497938958.py:1: NumbaWarning: \n",
      "Compilation is falling back to object mode WITH looplifting enabled because Function \"calc_pi_dask_numba\" failed type inference due to: Unknown attribute 'uniform' of type Module(<module 'dask.array.random' from '/home/flavio/repositories/teaching/parallel-python-workshop/.venv/lib/python3.10/site-packages/dask/array/random.py'>)\n",
      "\n",
      "File \"../../../../../../tmp/ipykernel_36944/497938958.py\", line 3:\n",
      "<source missing, REPL/exec in use?>\n",
      "\n",
      "During: typing of get attribute at /tmp/ipykernel_36944/497938958.py (3)\n",
      "\n",
      "File \"../../../../../../tmp/ipykernel_36944/497938958.py\", line 3:\n",
      "<source missing, REPL/exec in use?>\n",
      "\n",
      "  @numba.jit\n",
      "/home/flavio/repositories/teaching/parallel-python-workshop/.venv/lib/python3.10/site-packages/numba/core/object_mode_passes.py:151: NumbaWarning: Function \"calc_pi_dask_numba\" was compiled in object mode without forceobj=True.\n",
      "\n",
      "File \"../../../../../../tmp/ipykernel_36944/497938958.py\", line 1:\n",
      "<source missing, REPL/exec in use?>\n",
      "\n",
      "  warnings.warn(errors.NumbaWarning(warn_msg,\n",
      "/home/flavio/repositories/teaching/parallel-python-workshop/.venv/lib/python3.10/site-packages/numba/core/object_mode_passes.py:161: NumbaDeprecationWarning: \n",
      "Fall-back from the nopython compilation path to the object mode compilation path has been detected, this is deprecated behaviour.\n",
      "\n",
      "For more information visit https://numba.readthedocs.io/en/stable/reference/deprecation.html#deprecation-of-object-mode-fall-back-behaviour-when-using-jit\n",
      "\n",
      "File \"../../../../../../tmp/ipykernel_36944/497938958.py\", line 1:\n",
      "<source missing, REPL/exec in use?>\n",
      "\n",
      "  warnings.warn(errors.NumbaDeprecationWarning(msg,\n"
     ]
    },
    {
     "data": {
      "text/plain": [
       "3.140688"
      ]
     },
     "execution_count": 41,
     "metadata": {},
     "output_type": "execute_result"
    }
   ],
   "source": [
    "calc_pi_dask_numba(10**6)"
   ]
  },
  {
   "cell_type": "code",
   "execution_count": 36,
   "id": "489e9b7e-b345-4b22-be71-4d0f22e6d8e2",
   "metadata": {
    "tags": []
   },
   "outputs": [
    {
     "name": "stdout",
     "output_type": "stream",
     "text": [
      "963 ms ± 21.6 ms per loop (mean ± std. dev. of 7 runs, 1 loop each)\n"
     ]
    }
   ],
   "source": [
    "%timeit calc_pi_dask_numba(10**8)"
   ]
  },
  {
   "cell_type": "code",
   "execution_count": 35,
   "id": "0d4b6974-4874-43c0-b36c-22cfe5ed92b7",
   "metadata": {
    "tags": []
   },
   "outputs": [
    {
     "name": "stdout",
     "output_type": "stream",
     "text": [
      "968 ms ± 18.3 ms per loop (mean ± std. dev. of 7 runs, 1 loop each)\n"
     ]
    }
   ],
   "source": [
    "%timeit calc_pi_dask(10**8)"
   ]
  },
  {
   "cell_type": "code",
   "execution_count": 37,
   "id": "f9e46c2f-3e40-4d25-98a9-741872ca8295",
   "metadata": {
    "tags": []
   },
   "outputs": [
    {
     "name": "stdout",
     "output_type": "stream",
     "text": [
      "874 ms ± 18.4 ms per loop (mean ± std. dev. of 7 runs, 1 loop each)\n"
     ]
    }
   ],
   "source": [
    "%timeit calc_pi_numba(10**8)"
   ]
  },
  {
   "cell_type": "code",
   "execution_count": null,
   "id": "48458b32-4d4f-459a-9bea-430cdde8ea53",
   "metadata": {},
   "outputs": [],
   "source": [
    "@numba.njit\n",
    "@numba.jit(nopython=True)"
   ]
  },
  {
   "cell_type": "code",
   "execution_count": null,
   "id": "76870ca7-e979-4e58-b137-564ac7b397c6",
   "metadata": {},
   "outputs": [],
   "source": []
  },
  {
   "cell_type": "code",
   "execution_count": null,
   "id": "5df47f4b-1a33-4aae-a36d-2262c1b276ba",
   "metadata": {},
   "outputs": [],
   "source": []
  }
 ],
 "metadata": {
  "kernelspec": {
   "display_name": "Python 3 (ipykernel)",
   "language": "python",
   "name": "python3"
  },
  "language_info": {
   "codemirror_mode": {
    "name": "ipython",
    "version": 3
   },
   "file_extension": ".py",
   "mimetype": "text/x-python",
   "name": "python",
   "nbconvert_exporter": "python",
   "pygments_lexer": "ipython3",
   "version": "3.10.2"
  }
 },
 "nbformat": 4,
 "nbformat_minor": 5
}
