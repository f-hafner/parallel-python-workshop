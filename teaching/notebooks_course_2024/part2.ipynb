{
 "cells": [
  {
   "cell_type": "markdown",
   "id": "14196e1c-21db-4863-b9d9-2c4433851c68",
   "metadata": {},
   "source": [
    "## Threads & processes"
   ]
  },
  {
   "cell_type": "code",
   "execution_count": 1,
   "id": "c9dcbc67-6123-41cb-85e5-940c939e4a0e",
   "metadata": {
    "tags": []
   },
   "outputs": [],
   "source": [
    "from threading import Thread"
   ]
  },
  {
   "cell_type": "code",
   "execution_count": 2,
   "id": "24a4875f-7a6b-4181-93e4-1ee1bb790863",
   "metadata": {
    "tags": []
   },
   "outputs": [],
   "source": [
    "import random \n",
    "\n",
    "def calc_pi(N, name=None):\n",
    "    printing = name is not None \n",
    "    if printing:\n",
    "        print(f\"{name}: starting\")\n",
    "    M = 0 \n",
    "    for i in range(N):\n",
    "        x = random.uniform(-1, 1)\n",
    "        y = random.uniform(-1, 1)\n",
    "        if x**2 + y**2 < 1:\n",
    "            M += 1\n",
    "    \n",
    "    if printing:\n",
    "        print(f\"{name}: Done\")\n",
    "            \n",
    "    return 4*M/N"
   ]
  },
  {
   "cell_type": "code",
   "execution_count": 3,
   "id": "ce65342c-bb5d-41d8-9bb3-39813d045fdf",
   "metadata": {
    "tags": []
   },
   "outputs": [
    {
     "name": "stdout",
     "output_type": "stream",
     "text": [
      "CPU times: user 5.5 s, sys: 4.05 ms, total: 5.5 s\n",
      "Wall time: 5.5 s\n"
     ]
    },
    {
     "data": {
      "text/plain": [
       "3.1414272"
      ]
     },
     "execution_count": 3,
     "metadata": {},
     "output_type": "execute_result"
    }
   ],
   "source": [
    "%%time \n",
    "calc_pi(10**7)"
   ]
  },
  {
   "cell_type": "code",
   "execution_count": 5,
   "id": "8dcd303e-e05a-4126-9044-047f7ca5b25e",
   "metadata": {
    "tags": []
   },
   "outputs": [
    {
     "name": "stdout",
     "output_type": "stream",
     "text": [
      "Thread 1: starting\n",
      "Thread 1: Done\n",
      "Thread 2: starting\n",
      "Thread 2: Done\n",
      "Have started threads\n",
      "CPU times: user 10.3 ms, sys: 0 ns, total: 10.3 ms\n",
      "Wall time: 10.1 ms\n"
     ]
    }
   ],
   "source": [
    "%%time\n",
    "n=10**4//2\n",
    "t1 = Thread(target=calc_pi, args=(n, \"Thread 1\", )) \n",
    "t2 = Thread(target=calc_pi, args=(n, \"Thread 2\", ))\n",
    "\n",
    "t1.start()\n",
    "t2.start()\n",
    "\n",
    "print(\"Have started threads\")\n",
    "a = t1.join()\n",
    "b = t2.join()"
   ]
  },
  {
   "cell_type": "code",
   "execution_count": 8,
   "id": "36f0585a-fd92-43a8-a1d3-cbfac7d10317",
   "metadata": {
    "tags": []
   },
   "outputs": [
    {
     "data": {
      "text/plain": [
       "['__bool__',\n",
       " '__class__',\n",
       " '__delattr__',\n",
       " '__dir__',\n",
       " '__doc__',\n",
       " '__eq__',\n",
       " '__format__',\n",
       " '__ge__',\n",
       " '__getattribute__',\n",
       " '__gt__',\n",
       " '__hash__',\n",
       " '__init__',\n",
       " '__init_subclass__',\n",
       " '__le__',\n",
       " '__lt__',\n",
       " '__ne__',\n",
       " '__new__',\n",
       " '__reduce__',\n",
       " '__reduce_ex__',\n",
       " '__repr__',\n",
       " '__setattr__',\n",
       " '__sizeof__',\n",
       " '__str__',\n",
       " '__subclasshook__']"
      ]
     },
     "execution_count": 8,
     "metadata": {},
     "output_type": "execute_result"
    }
   ],
   "source": []
  },
  {
   "cell_type": "markdown",
   "id": "3e41ae01-4b0e-4fd0-bc6b-c21192a95ffa",
   "metadata": {},
   "source": [
    "#### Circumventing the GIL"
   ]
  },
  {
   "cell_type": "code",
   "execution_count": 7,
   "id": "846a8490-ec9b-4c69-b925-19d74152bd07",
   "metadata": {
    "tags": []
   },
   "outputs": [],
   "source": [
    "import numba"
   ]
  },
  {
   "cell_type": "code",
   "execution_count": 10,
   "id": "7d1b231c-012d-4e42-b8ae-116ad8e41f3a",
   "metadata": {
    "tags": []
   },
   "outputs": [],
   "source": [
    "\n",
    "@numba.jit(nopython=True, nogil=True)\n",
    "def calc_pi_nogil(N):\n",
    "    M = 0 \n",
    "    for i in range(N):\n",
    "        x = random.uniform(-1, 1)\n",
    "        y = random.uniform(-1, 1)\n",
    "        if x**2 + y**2 < 1:\n",
    "            M += 1\n",
    "            \n",
    "    return 4 * M / N\n",
    "\n",
    "\n",
    "@numba.jit(nopython=True)\n",
    "def calc_pi_with_gil(N):\n",
    "    M = 0 \n",
    "    for i in range(N):\n",
    "        x = random.uniform(-1, 1)\n",
    "        y = random.uniform(-1, 1)\n",
    "        if x**2 + y**2 < 1:\n",
    "            M += 1\n",
    "            \n",
    "    return 4 * M / N\n"
   ]
  },
  {
   "cell_type": "code",
   "execution_count": 11,
   "id": "67ef6469-91b5-41ff-bc54-b9f3d8aeed42",
   "metadata": {
    "tags": []
   },
   "outputs": [
    {
     "data": {
      "text/plain": [
       "3.2"
      ]
     },
     "execution_count": 11,
     "metadata": {},
     "output_type": "execute_result"
    }
   ],
   "source": [
    "calc_pi_with_gil(100)\n",
    "calc_pi_nogil(100)"
   ]
  },
  {
   "cell_type": "code",
   "execution_count": 12,
   "id": "ba44810a-072b-4fd5-b990-02f9f914cbbe",
   "metadata": {
    "tags": []
   },
   "outputs": [
    {
     "name": "stdout",
     "output_type": "stream",
     "text": [
      "63.2 ms ± 688 µs per loop (mean ± std. dev. of 7 runs, 10 loops each)\n"
     ]
    }
   ],
   "source": [
    "%timeit calc_pi_nogil(10**7)"
   ]
  },
  {
   "cell_type": "code",
   "execution_count": 13,
   "id": "2da0edec-3f8d-4860-97e1-167a876cdd6c",
   "metadata": {
    "tags": []
   },
   "outputs": [
    {
     "name": "stdout",
     "output_type": "stream",
     "text": [
      "62.9 ms ± 387 µs per loop (mean ± std. dev. of 7 runs, 10 loops each)\n"
     ]
    }
   ],
   "source": [
    "%timeit calc_pi_with_gil(10**7)"
   ]
  },
  {
   "cell_type": "markdown",
   "id": "1fe8e218-f177-4331-b5f8-8ca152b6a123",
   "metadata": {},
   "source": [
    "**Exercise: threading on a numpy function**\n",
    "\n",
    "Many Numpy functions unlock the GIL. Try to sort two randomly generated arrays using numpy.sort in parallel. Time it; compare to the sequential version.\n"
   ]
  },
  {
   "cell_type": "code",
   "execution_count": 14,
   "id": "fd465d8b-df4a-4f3c-8dc0-1cba458146b5",
   "metadata": {
    "tags": []
   },
   "outputs": [],
   "source": [
    "import numpy as np "
   ]
  },
  {
   "cell_type": "code",
   "execution_count": 15,
   "id": "e62d400c-c60f-42a0-975c-b0da494545f9",
   "metadata": {
    "tags": []
   },
   "outputs": [],
   "source": [
    "a = np.random.random(10**6)\n",
    "b = np.random.random(10**6)"
   ]
  },
  {
   "cell_type": "code",
   "execution_count": 18,
   "id": "395d9874-05fd-4650-a0e0-7d760910e180",
   "metadata": {
    "tags": []
   },
   "outputs": [
    {
     "name": "stdout",
     "output_type": "stream",
     "text": [
      "121 ms ± 5.76 ms per loop (mean ± std. dev. of 10 runs, 10 loops each)\n"
     ]
    }
   ],
   "source": [
    "%%timeit -n 10 -r 10\n",
    "np.sort(a)\n",
    "np.sort(b)"
   ]
  },
  {
   "cell_type": "code",
   "execution_count": 20,
   "id": "0c847da9-1430-45d4-9313-c93688f44313",
   "metadata": {
    "tags": []
   },
   "outputs": [
    {
     "name": "stdout",
     "output_type": "stream",
     "text": [
      "62 ms ± 3.18 ms per loop (mean ± std. dev. of 10 runs, 10 loops each)\n"
     ]
    }
   ],
   "source": [
    "%%timeit -n 10 -r 10\n",
    "t1 = Thread(target=np.sort, args=(a,))\n",
    "t2 = Thread(target=np.sort, args=(b,))\n",
    "\n",
    "t1.start()\n",
    "t2.start()\n",
    "\n",
    "t1.join()\n",
    "t2.join()\n"
   ]
  },
  {
   "cell_type": "markdown",
   "id": "95e68c1f-b402-4a86-8f65-9da66005ef1d",
   "metadata": {},
   "source": [
    "### Multiprocessing"
   ]
  },
  {
   "cell_type": "code",
   "execution_count": 27,
   "id": "cb043373-1484-4a8f-9c5a-eb18329b6fb7",
   "metadata": {
    "tags": []
   },
   "outputs": [],
   "source": [
    "from multiprocessing import Process\n",
    "import multiprocessing as mp"
   ]
  },
  {
   "cell_type": "code",
   "execution_count": 36,
   "id": "70fce474-c734-4cee-92a2-a151807221c2",
   "metadata": {
    "tags": []
   },
   "outputs": [
    {
     "name": "stdout",
     "output_type": "stream",
     "text": [
      "3.73 s ± 0 ns per loop (mean ± std. dev. of 1 run, 1 loop each)\n"
     ]
    }
   ],
   "source": [
    "%%timeit -n 1 -r 1\n",
    "\n",
    "if __name__ == \"__main__\":\n",
    "    n = 10**7//2\n",
    "    ctx = mp.get_context(\"fork\")\n",
    "    p1 = ctx.Process(target=calc_pi, args=(n, ))\n",
    "    p2 = ctx.Process(target=calc_pi, args=(n, ))\n",
    "    \n",
    "    p1.start()\n",
    "    p2.start()\n",
    "    \n",
    "    p1.join()\n",
    "    p2.join()\n",
    "    "
   ]
  },
  {
   "cell_type": "code",
   "execution_count": 31,
   "id": "4179079a-587b-4676-8c16-7471247598ac",
   "metadata": {
    "tags": []
   },
   "outputs": [
    {
     "name": "stdout",
     "output_type": "stream",
     "text": [
      "total 1336\n",
      "drwxrwxr-x 2 flavio flavio    4096 mrt 11 08:53 notebooks\n",
      "drwxrwxr-x 4 flavio flavio    4096 mrt 19 12:15 notes\n",
      "-rw-rw-r-- 1 flavio flavio   13117 mrt 19 14:27 part1.ipynb\n",
      "-rw-rw-r-- 1 flavio flavio    9226 mrt 19 15:57 part2.ipynb\n",
      "-rw-rw-r-- 1 flavio flavio 1327134 mrt 19 12:10 test.ipynb\n"
     ]
    }
   ],
   "source": [
    "!ls -l"
   ]
  },
  {
   "cell_type": "code",
   "execution_count": null,
   "id": "4087b988-2fd9-4aef-9c38-51e1ef4dc22a",
   "metadata": {},
   "outputs": [],
   "source": [
    "!python myscript.py"
   ]
  },
  {
   "cell_type": "code",
   "execution_count": 26,
   "id": "87335f26-9423-46b1-9107-5fa8b1ff0810",
   "metadata": {
    "tags": []
   },
   "outputs": [
    {
     "name": "stdout",
     "output_type": "stream",
     "text": [
      "6.32 s ± 0 ns per loop (mean ± std. dev. of 1 run, 1 loop each)\n"
     ]
    }
   ],
   "source": [
    "%%timeit -n 1 -r 1\n",
    "calc_pi(10**7//2)\n",
    "calc_pi(10**7//2)"
   ]
  },
  {
   "cell_type": "markdown",
   "id": "bdf0d651-062e-49fe-8a10-0d75fd0d4e75",
   "metadata": {},
   "source": [
    "### Overhead and the gains from multiprocessing\n",
    "Using the original `calc_pi` function, write a program the runs the computation across multiple processes and records the time taken.\n",
    "First, vary the amount of work and fix the number of processes.\n",
    "Then, vary the number of processes and fix the amount of work.\n",
    "\n",
    "By inspecting the running times, investigate the scaling behavior of the programs. What can we learn?\n",
    "\n",
    "It is recommended to have the programs in separate script and call the scripts from the notebook with `!python myscript.py`.\n",
    "\n",
    "Hint: you can use [multiprocessing.starmap](https://docs.python.org/3/library/multiprocessing.html#multiprocessing.pool.Pool.starmap)\n",
    "\n",
    "from timeit import timeit \n",
    "\n",
    "`timeit(lambda: ....)`\n"
   ]
  },
  {
   "cell_type": "code",
   "execution_count": 38,
   "id": "369346a0-10c6-448d-8b8f-ae0dd850bfcf",
   "metadata": {
    "tags": []
   },
   "outputs": [
    {
     "name": "stdout",
     "output_type": "stream",
     "text": [
      "hello world\n"
     ]
    }
   ],
   "source": [
    "!python mp_pool.py"
   ]
  },
  {
   "cell_type": "code",
   "execution_count": 43,
   "id": "3b031310-16af-477c-9580-035d6cb0522c",
   "metadata": {
    "tags": []
   },
   "outputs": [],
   "source": [
    "from timeit import timeit"
   ]
  },
  {
   "cell_type": "code",
   "execution_count": 44,
   "id": "39b6bc11-e495-46bb-898f-78b3ace5da1e",
   "metadata": {
    "tags": []
   },
   "outputs": [
    {
     "name": "stdout",
     "output_type": "stream",
     "text": [
      "Help on function timeit in module timeit:\n",
      "\n",
      "timeit(stmt='pass', setup='pass', timer=<built-in function perf_counter>, number=1000000, globals=None)\n",
      "    Convenience function to create Timer object and call timeit method.\n",
      "\n"
     ]
    }
   ],
   "source": [
    "help(timeit)"
   ]
  },
  {
   "cell_type": "code",
   "execution_count": 46,
   "id": "29f2a493-59c9-430d-ac63-6d98530b9f36",
   "metadata": {
    "tags": []
   },
   "outputs": [
    {
     "name": "stdout",
     "output_type": "stream",
     "text": [
      "4\n",
      "4\n",
      "4\n",
      "4\n"
     ]
    },
    {
     "data": {
      "text/plain": [
       "6.205400131875649e-05"
      ]
     },
     "execution_count": 46,
     "metadata": {},
     "output_type": "execute_result"
    }
   ],
   "source": [
    "timeit(lambda: print(4), number=4)"
   ]
  },
  {
   "cell_type": "code",
   "execution_count": 48,
   "id": "bf15c908-49db-4252-b339-4c8235f63d4f",
   "metadata": {
    "tags": []
   },
   "outputs": [
    {
     "name": "stdout",
     "output_type": "stream",
     "text": [
      "Using 100 samples took 0.2575781769992318 seconds\n",
      "Using 1000 samples took 0.25124963400230627 seconds\n",
      "Using 10000 samples took 0.2991928610026662 seconds\n",
      "Using 1000000 samples took 3.2885874150015297 seconds\n",
      "Using 10000000 samples took 37.70154950699725 seconds\n"
     ]
    }
   ],
   "source": [
    "!python mp_pool.py"
   ]
  },
  {
   "cell_type": "code",
   "execution_count": 53,
   "id": "48814195-1135-4f9f-b034-584a48cfc9ab",
   "metadata": {
    "tags": []
   },
   "outputs": [
    {
     "name": "stdout",
     "output_type": "stream",
     "text": [
      "using 1 jobs took 2.842753086999437 seconds\n",
      "using 2 jobs took 1.4961389279997093 seconds\n",
      "using 4 jobs took 0.9307320130028529 seconds\n",
      "using 8 jobs took 0.8835392270011653 seconds\n",
      "using 16 jobs took 0.9303198029992927 seconds\n",
      "using 32 jobs took 0.8894892330026778 seconds\n"
     ]
    }
   ],
   "source": [
    "!python mp_pool_vary_workers.py"
   ]
  },
  {
   "cell_type": "code",
   "execution_count": null,
   "id": "f2a973c7-b10f-4446-aa3a-3d7c9020ab7c",
   "metadata": {},
   "outputs": [],
   "source": []
  },
  {
   "cell_type": "markdown",
   "id": "19fc8b94-a36a-4d78-a415-65882f3bc607",
   "metadata": {},
   "source": [
    "## Collecting results from threads\n",
    "\n",
    "- for instance, [this method](https://stackoverflow.com/questions/6893968/how-to-get-the-return-value-from-a-thread) is not easy to compile to numba\n",
    "    - we could use a class (as in the above link), but I have not tried this\n",
    "- problem: it's hard to make numba modify objects like lists, which is necessary in threaded \n",
    "    - in the above approach, each thread would write the result into a list at different indices. but we cannot numba-compile lists\n",
    "- we can use `concurrent.futures` instead, which provides an easier-to-use interface\n",
    "- under the hood it does not do quite the same as `threading.Thread`: it asynchronously executes the function. But Johan will certainly be able to tell you more.\n",
    "\n",
    "Documentation: https://docs.python.org/3/library/concurrent.futures.html#executor-objects\n",
    "\n",
    "https://stackoverflow.com/questions/61351844/difference-between-multiprocessing-asyncio-threading-and-concurrency-futures-i\n",
    "\n",
    "key idea: \"executor\" are what was \"Pool\" in multiprocessing yesterday, and it works for threads and processes. \n"
   ]
  },
  {
   "cell_type": "code",
   "execution_count": 1,
   "id": "394f5a5b-5d01-412d-8493-d111b351cce4",
   "metadata": {
    "tags": []
   },
   "outputs": [
    {
     "data": {
      "text/plain": [
       "3.28"
      ]
     },
     "execution_count": 1,
     "metadata": {},
     "output_type": "execute_result"
    }
   ],
   "source": [
    "import numba\n",
    "import random \n",
    "\n",
    "@numba.jit(nopython=True, nogil=True)\n",
    "def calc_pi(N, name=None):\n",
    "    printing = name is not None \n",
    "    if printing:\n",
    "        print(f\"{name}: starting\")\n",
    "    M = 0 \n",
    "    for i in range(N):\n",
    "        x = random.uniform(-1, 1)\n",
    "        y = random.uniform(-1, 1)\n",
    "        if x**2 + y**2 < 1:\n",
    "            M += 1\n",
    "    \n",
    "    if printing:\n",
    "        print(f\"{name}: Done\")\n",
    "            \n",
    "    return 4*M/N\n",
    "    \n",
    "\n",
    "calc_pi(100) # compile\n"
   ]
  },
  {
   "cell_type": "code",
   "execution_count": 2,
   "id": "c6f1adea-d857-40da-b84d-056744f9b74f",
   "metadata": {
    "tags": []
   },
   "outputs": [],
   "source": [
    "from  concurrent.futures  import ThreadPoolExecutor"
   ]
  },
  {
   "cell_type": "code",
   "execution_count": 3,
   "id": "3318278b-d730-4003-8e84-3a5bde4be1d6",
   "metadata": {
    "tags": []
   },
   "outputs": [
    {
     "data": {
      "text/plain": [
       "[3.1426448, 3.1415656]"
      ]
     },
     "execution_count": 3,
     "metadata": {},
     "output_type": "execute_result"
    }
   ],
   "source": [
    "#show the result\n",
    "executor = ThreadPoolExecutor(max_workers=5)\n",
    "a = executor.map(calc_pi, [10**7//2, 10**7//2])\n",
    "list(a) # a is a generator"
   ]
  },
  {
   "cell_type": "code",
   "execution_count": 7,
   "id": "51e5e457-f160-42a0-bfd5-f6405839da5d",
   "metadata": {
    "tags": []
   },
   "outputs": [
    {
     "name": "stdout",
     "output_type": "stream",
     "text": [
      "16.1 ms ± 1.16 ms per loop (mean ± std. dev. of 10 runs, 10 loops each)\n"
     ]
    }
   ],
   "source": [
    "%%timeit -n 10 -r 10\n",
    "n_chunks = 2\n",
    "executor = ThreadPoolExecutor(max_workers=5)\n",
    "work = [10**7//n_chunks for _ in range(n_chunks)]\n",
    "a = executor.map(calc_pi, work)"
   ]
  },
  {
   "cell_type": "code",
   "execution_count": 8,
   "id": "50f6fe38-8088-491f-915b-22af2d89ab31",
   "metadata": {
    "tags": []
   },
   "outputs": [
    {
     "name": "stdout",
     "output_type": "stream",
     "text": [
      "70.2 ms ± 2.14 ms per loop (mean ± std. dev. of 10 runs, 10 loops each)\n"
     ]
    }
   ],
   "source": [
    "%%timeit -n 10 -r 10\n",
    "a = calc_pi(10**7)\n"
   ]
  },
  {
   "cell_type": "markdown",
   "id": "2924aaf8-1404-4c2b-bcd0-b690e9c28f77",
   "metadata": {},
   "source": [
    "### Doing the same with processes"
   ]
  },
  {
   "cell_type": "code",
   "execution_count": 9,
   "id": "db389098-1e0b-4187-8f53-4cab681b64e3",
   "metadata": {
    "tags": []
   },
   "outputs": [],
   "source": [
    "from concurrent.futures import ProcessPoolExecutor"
   ]
  },
  {
   "cell_type": "code",
   "execution_count": 11,
   "id": "3b47ab8e-5e05-47b7-b3e4-48513ee53646",
   "metadata": {
    "tags": []
   },
   "outputs": [],
   "source": [
    "# show the result \n",
    "executor = ProcessPoolExecutor(max_workers=4)\n",
    "n_chunks = 2\n",
    "work = [10**7//n_chunks for _ in range(n_chunks)]\n",
    "a = executor.map(calc_pi, work)"
   ]
  },
  {
   "cell_type": "code",
   "execution_count": 12,
   "id": "9a9b9d98-b46a-46c0-929d-3ac48469c911",
   "metadata": {
    "tags": []
   },
   "outputs": [
    {
     "name": "stdout",
     "output_type": "stream",
     "text": [
      "20.2 ms ± 862 µs per loop (mean ± std. dev. of 10 runs, 10 loops each)\n"
     ]
    }
   ],
   "source": [
    "%%timeit -n 10 -r 10\n",
    "executor = ProcessPoolExecutor(max_workers=4)\n",
    "\n",
    "n_chunks = 2\n",
    "work = [10**7//n_chunks for _ in range(n_chunks)]\n",
    "a = executor.map(calc_pi, work)\n"
   ]
  },
  {
   "cell_type": "code",
   "execution_count": null,
   "id": "0616479f-dd6a-4eee-983d-52658f215e58",
   "metadata": {},
   "outputs": [],
   "source": []
  },
  {
   "cell_type": "code",
   "execution_count": null,
   "id": "a8dafd7c-a4f4-4814-8eda-e875d1702f93",
   "metadata": {},
   "outputs": [],
   "source": []
  },
  {
   "cell_type": "code",
   "execution_count": null,
   "id": "d4524b33-18b6-44cc-a0fa-8dd11380e098",
   "metadata": {},
   "outputs": [],
   "source": []
  }
 ],
 "metadata": {
  "kernelspec": {
   "display_name": "Python 3 (ipykernel)",
   "language": "python",
   "name": "python3"
  },
  "language_info": {
   "codemirror_mode": {
    "name": "ipython",
    "version": 3
   },
   "file_extension": ".py",
   "mimetype": "text/x-python",
   "name": "python",
   "nbconvert_exporter": "python",
   "pygments_lexer": "ipython3",
   "version": "3.10.2"
  }
 },
 "nbformat": 4,
 "nbformat_minor": 5
}
