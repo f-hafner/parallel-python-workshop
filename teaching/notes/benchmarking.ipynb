{
 "cells": [
  {
   "cell_type": "markdown",
   "metadata": {},
   "source": [
    "# Benchmarking \n",
    "\n",
    "It is important to know how well our program performs.\n",
    "- Before starting any work, we can explore the bottlenecks and causes for it to be running slowly\n",
    "- During and after working on parallelization, we want to make sure that our work did have an impact on the execution speed of the program.\n",
    "\n",
    "For this, we use benchmarking. We will see in this episode how to do benchmarking and answer two questions:\n",
    "- How do we know if our program runs faster? \n",
    "- How do we learn about efficiency?\n"
   ]
  },
  {
   "cell_type": "markdown",
   "metadata": {},
   "source": [
    "### A first example with Dask\n",
    "\n",
    "Before we jump into parallelization, let's first understand what is going on under the hood on our computers.\n",
    "\n",
    "For this, let's open a system monitor.\n",
    "- On linux, this is the `system monitor`\n",
    "- On Mac, `activity monitor`\n",
    "- On windows, `task manager` (?)\n",
    "\n",
    "<mark>Explain the system monitor (?)</mark>\n",
    "\n",
    "\n",
    "Then we will compare the following code examples\n",
    "- Start low, with `10**7`, increase slowly. Otherwise your computer may slow down substantially or crash.\n",
    "- But the task needs to be heavy enough for us to see anything going on."
   ]
  },
  {
   "cell_type": "code",
   "execution_count": 12,
   "metadata": {},
   "outputs": [],
   "source": [
    "import numpy as np \n",
    "result = np.arange(10**9).sum()"
   ]
  },
  {
   "cell_type": "markdown",
   "metadata": {},
   "source": [
    "We see 8 CPUs in total, and two of them are used when we execute the cell.\n",
    "\n",
    "Let's now try with Dask. \n",
    "\n",
    "<mark>What is dask?</mark>\n",
    "\n",
    "The API for dask arrays is similar to that of numpy."
   ]
  },
  {
   "cell_type": "code",
   "execution_count": 11,
   "metadata": {},
   "outputs": [],
   "source": [
    "import dask.array as da \n"
   ]
  },
  {
   "cell_type": "code",
   "execution_count": 13,
   "metadata": {},
   "outputs": [],
   "source": [
    "work = da.arange(10**9).sum()\n",
    "result = work.compute()"
   ]
  },
  {
   "cell_type": "markdown",
   "metadata": {},
   "source": [
    "We see that the work is distributed to *all* CPUs, and each of them is only 80% occupied during the execution.\n",
    "Thus, dask **executes computation in parallel**, while the numpy approach does it in a serial manner (refer back to the example from the introduction).\n",
    "\n",
    "We also see a much smaller memory requirement when using dask (the bump for the memory line in the middle)\n",
    "\n",
    "**Making this more practical**\n",
    "- We can use python magic functions, that start with `%%`, to see how fast our program runs.\n",
    "- It does not change any other aspect of the program"
   ]
  },
  {
   "cell_type": "code",
   "execution_count": 14,
   "metadata": {},
   "outputs": [
    {
     "name": "stdout",
     "output_type": "stream",
     "text": [
      "CPU times: user 869 ms, sys: 699 ms, total: 1.57 s\n",
      "Wall time: 1.57 s\n"
     ]
    },
    {
     "data": {
      "text/plain": [
       "499999999500000000"
      ]
     },
     "execution_count": 14,
     "metadata": {},
     "output_type": "execute_result"
    }
   ],
   "source": [
    "%%time \n",
    "np.arange(10**9).sum()"
   ]
  },
  {
   "cell_type": "markdown",
   "metadata": {},
   "source": [
    "**Explain the CPU times: user, sys, total**"
   ]
  },
  {
   "cell_type": "markdown",
   "metadata": {},
   "source": [
    "It'd be nice to have a more rigorous measure than just this single run -- which we can do with the `%%timeit`, which repeats the command multiple times to get an average running time. \n",
    "Moreover, `%%timeit` ignores the time it takes to set up the problem (what is that in this case?), thus only measuring the performance of the code in the cell."
   ]
  },
  {
   "cell_type": "code",
   "execution_count": 15,
   "metadata": {},
   "outputs": [
    {
     "name": "stdout",
     "output_type": "stream",
     "text": [
      "1.57 s ± 7.7 ms per loop (mean ± std. dev. of 7 runs, 1 loop each)\n"
     ]
    }
   ],
   "source": [
    "%%timeit \n",
    "np.arange(10**9).sum()"
   ]
  },
  {
   "cell_type": "markdown",
   "metadata": {},
   "source": [
    "We can also store the output of `%%timeit` in a python variable and use it later, as follows"
   ]
  },
  {
   "cell_type": "code",
   "execution_count": 16,
   "metadata": {},
   "outputs": [
    {
     "name": "stdout",
     "output_type": "stream",
     "text": [
      "1.57 s ± 21.8 ms per loop (mean ± std. dev. of 7 runs, 1 loop each)\n",
      "Time taken: 1.5725s\n"
     ]
    }
   ],
   "source": [
    "time = %timeit -o np.arange(10**9).sum()\n",
    "print(f\"Time taken: {time.average:.4f}s\")"
   ]
  },
  {
   "cell_type": "markdown",
   "metadata": {},
   "source": [
    "To do \n",
    "- one vs two %?\n",
    "\n",
    "This is nice, but does not tell us anything about how much and how efficiently we use memory\n",
    "\n",
    "### Memory profiling\n",
    "\n",
    "- **benchmarking**: the act of systematically testing performance under different conditions. Different conditions = different hardware, but also different way of implementing a solution in software (as above with the example of dask and numpy)\n",
    "- **profiling**: analysing which parts of a program contribute to the total performance and identifying bottlenecks\n",
    "\n",
    "\n",
    "Let us now compare the memory usage between the serial and the parallel versions of the code from above"
   ]
  },
  {
   "cell_type": "code",
   "execution_count": 19,
   "metadata": {},
   "outputs": [],
   "source": [
    "from memory_profiler import memory_usage\n",
    "import matplotlib.pyplot as plt \n",
    "\n",
    "def sum_with_numpy():\n",
    "    # serial implementation\n",
    "    np.arange(10**9).sum()\n",
    "\n",
    "def sum_with_dask():\n",
    "    # parallel implementation\n",
    "    work = da.arange(10**9).sum() ## XXX what does this do? check documentation\n",
    "    work.compute()"
   ]
  },
  {
   "cell_type": "markdown",
   "metadata": {},
   "source": [
    "The documentation for `memory_usage` is here: https://pypi.org/project/memory-profiler/\n",
    "- the output is memory usage in megabytes, so below we're using 1GB vs 8 GB of memory\n"
   ]
  },
  {
   "cell_type": "code",
   "execution_count": 22,
   "metadata": {},
   "outputs": [],
   "source": [
    "memory_numpy = memory_usage(sum_with_numpy, interval=0.01)\n"
   ]
  },
  {
   "cell_type": "code",
   "execution_count": 21,
   "metadata": {},
   "outputs": [],
   "source": [
    "memory_dask = memory_usage(sum_with_dask, interval=0.01)"
   ]
  },
  {
   "cell_type": "code",
   "execution_count": 24,
   "metadata": {},
   "outputs": [
    {
     "data": {
      "image/png": "[encoded data removed]",
      "text/plain": [
       "<Figure size 640x480 with 1 Axes>"
      ]
     },
     "metadata": {},
     "output_type": "display_data"
    }
   ],
   "source": [
    "plt.plot(memory_numpy, label=\"numpy\")\n",
    "plt.plot(memory_dask, label=\"dask\")\n",
    "plt.xlabel(\"Time step\")\n",
    "plt.ylabel(\"Memory in MB\")\n",
    "plt.legend()\n",
    "plt.show()"
   ]
  },
  {
   "cell_type": "markdown",
   "metadata": {},
   "source": [
    "<mark>Exercise</mark>\n",
    "Why is the dask solution more memory-efficient?\n",
    "\n",
    "**Solution**\n",
    "Dask uses chunks. Thus, it splits the large array into samller parts and so the data is never entirely in memory."
   ]
  },
  {
   "cell_type": "code",
   "execution_count": 35,
   "metadata": {},
   "outputs": [
    {
     "data": {
      "text/html": [
       "<table>\n",
       "    <tr>\n",
       "        <td>\n",
       "            <table>\n",
       "                <thead>\n",
       "                    <tr>\n",
       "                        <td> </td>\n",
       "                        <th> Array </th>\n",
       "                        <th> Chunk </th>\n",
       "                    </tr>\n",
       "                </thead>\n",
       "                <tbody>\n",
       "                    \n",
       "                    <tr>\n",
       "                        <th> Bytes </th>\n",
       "                        <td> 7.45 GiB </td>\n",
       "                        <td> 119.21 MiB </td>\n",
       "                    </tr>\n",
       "                    \n",
       "                    <tr>\n",
       "                        <th> Shape </th>\n",
       "                        <td> (1000000000,) </td>\n",
       "                        <td> (15625000,) </td>\n",
       "                    </tr>\n",
       "                    <tr>\n",
       "                        <th> Count </th>\n",
       "                        <td> 64 Tasks </td>\n",
       "                        <td> 64 Chunks </td>\n",
       "                    </tr>\n",
       "                    <tr>\n",
       "                    <th> Type </th>\n",
       "                    <td> int64 </td>\n",
       "                    <td> numpy.ndarray </td>\n",
       "                    </tr>\n",
       "                </tbody>\n",
       "            </table>\n",
       "        </td>\n",
       "        <td>\n",
       "        <svg width=\"170\" height=\"75\" style=\"stroke:rgb(0,0,0);stroke-width:1\" >\n",
       "\n",
       "  <!-- Horizontal lines -->\n",
       "  <line x1=\"0\" y1=\"0\" x2=\"120\" y2=\"0\" style=\"stroke-width:2\" />\n",
       "  <line x1=\"0\" y1=\"25\" x2=\"120\" y2=\"25\" style=\"stroke-width:2\" />\n",
       "\n",
       "  <!-- Vertical lines -->\n",
       "  <line x1=\"0\" y1=\"0\" x2=\"0\" y2=\"25\" style=\"stroke-width:2\" />\n",
       "  <line x1=\"5\" y1=\"0\" x2=\"5\" y2=\"25\" />\n",
       "  <line x1=\"11\" y1=\"0\" x2=\"11\" y2=\"25\" />\n",
       "  <line x1=\"18\" y1=\"0\" x2=\"18\" y2=\"25\" />\n",
       "  <line x1=\"24\" y1=\"0\" x2=\"24\" y2=\"25\" />\n",
       "  <line x1=\"30\" y1=\"0\" x2=\"30\" y2=\"25\" />\n",
       "  <line x1=\"37\" y1=\"0\" x2=\"37\" y2=\"25\" />\n",
       "  <line x1=\"43\" y1=\"0\" x2=\"43\" y2=\"25\" />\n",
       "  <line x1=\"48\" y1=\"0\" x2=\"48\" y2=\"25\" />\n",
       "  <line x1=\"56\" y1=\"0\" x2=\"56\" y2=\"25\" />\n",
       "  <line x1=\"61\" y1=\"0\" x2=\"61\" y2=\"25\" />\n",
       "  <line x1=\"69\" y1=\"0\" x2=\"69\" y2=\"25\" />\n",
       "  <line x1=\"75\" y1=\"0\" x2=\"75\" y2=\"25\" />\n",
       "  <line x1=\"80\" y1=\"0\" x2=\"80\" y2=\"25\" />\n",
       "  <line x1=\"88\" y1=\"0\" x2=\"88\" y2=\"25\" />\n",
       "  <line x1=\"93\" y1=\"0\" x2=\"93\" y2=\"25\" />\n",
       "  <line x1=\"99\" y1=\"0\" x2=\"99\" y2=\"25\" />\n",
       "  <line x1=\"106\" y1=\"0\" x2=\"106\" y2=\"25\" />\n",
       "  <line x1=\"112\" y1=\"0\" x2=\"112\" y2=\"25\" />\n",
       "  <line x1=\"120\" y1=\"0\" x2=\"120\" y2=\"25\" style=\"stroke-width:2\" />\n",
       "\n",
       "  <!-- Colored Rectangle -->\n",
       "  <polygon points=\"0.0,0.0 120.0,0.0 120.0,25.412616514582485 0.0,25.412616514582485\" style=\"fill:#8B4903A0;stroke-width:0\"/>\n",
       "\n",
       "  <!-- Text -->\n",
       "  <text x=\"60.000000\" y=\"45.412617\" font-size=\"1.0rem\" font-weight=\"100\" text-anchor=\"middle\" >1000000000</text>\n",
       "  <text x=\"140.000000\" y=\"12.706308\" font-size=\"1.0rem\" font-weight=\"100\" text-anchor=\"middle\" transform=\"rotate(0,140.000000,12.706308)\">1</text>\n",
       "</svg>\n",
       "        </td>\n",
       "    </tr>\n",
       "</table>"
      ],
      "text/plain": [
       "dask.array<arange, shape=(1000000000,), dtype=int64, chunksize=(15625000,), chunktype=numpy.ndarray>"
      ]
     },
     "execution_count": 35,
     "metadata": {},
     "output_type": "execute_result"
    }
   ],
   "source": [
    "work = da.arange(10**9)\n",
    "work"
   ]
  },
  {
   "cell_type": "markdown",
   "metadata": {},
   "source": [
    "How does this square up with the memory usage of about 1 GB? \n",
    "- one chunk is 119 MB \n",
    "- we have 8 CPUs, so at a single time we have around 8 * 119MB data in memory\n",
    "- this makes around 950 MB, roughly in line with the figure above"
   ]
  },
  {
   "cell_type": "markdown",
   "metadata": {},
   "source": [
    "## Using many cores\n",
    "\n",
    "- We can decrease the running time of the program by using more than one core -- as we've seen in the example above \n",
    "- *How many cores do I have?*"
   ]
  },
  {
   "cell_type": "code",
   "execution_count": 39,
   "metadata": {},
   "outputs": [
    {
     "name": "stdout",
     "output_type": "stream",
     "text": [
      "The number of physical/logical cores is 4/8\n"
     ]
    }
   ],
   "source": [
    "import psutil \n",
    "N_physical_cores = psutil.cpu_count(logical=False)\n",
    "N_logical_cores = psutil.cpu_count(logical=True)\n",
    "print(f\"The number of physical/logical cores is {N_physical_cores}/{N_logical_cores}\")\n",
    "\n",
    "# cpu_count gives the number of cores; either logical or physical"
   ]
  },
  {
   "cell_type": "markdown",
   "metadata": {},
   "source": [
    "The difference between logical and physical cores comes from *hyperthreading*. This means that a single physical CPU core can execute multiple threads ($\\approx$ instructions) at the same time -- typically 2. \n",
    "\n",
    "Technically, each core has 2 processors, and they are able to execute threads independently. \n",
    "\n",
    "**what is a thread?**\n",
    "This can have unexpected effects on how performance scales. Let's see the example below"
   ]
  },
  {
   "cell_type": "code",
   "execution_count": 54,
   "metadata": {},
   "outputs": [
    {
     "name": "stdout",
     "output_type": "stream",
     "text": [
      "Help on class range in module builtins:\n",
      "\n",
      "class range(object)\n",
      " |  range(stop) -> range object\n",
      " |  range(start, stop[, step]) -> range object\n",
      " |  \n",
      " |  Return an object that produces a sequence of integers from start (inclusive)\n",
      " |  to stop (exclusive) by step.  range(i, j) produces i, i+1, i+2, ..., j-1.\n",
      " |  start defaults to 0, and stop is omitted!  range(4) produces 0, 1, 2, 3.\n",
      " |  These are exactly the valid indices for a list of 4 elements.\n",
      " |  When step is given, it specifies the increment (or decrement).\n",
      " |  \n",
      " |  Methods defined here:\n",
      " |  \n",
      " |  __bool__(self, /)\n",
      " |      True if self else False\n",
      " |  \n",
      " |  __contains__(self, key, /)\n",
      " |      Return key in self.\n",
      " |  \n",
      " |  __eq__(self, value, /)\n",
      " |      Return self==value.\n",
      " |  \n",
      " |  __ge__(self, value, /)\n",
      " |      Return self>=value.\n",
      " |  \n",
      " |  __getattribute__(self, name, /)\n",
      " |      Return getattr(self, name).\n",
      " |  \n",
      " |  __getitem__(self, key, /)\n",
      " |      Return self[key].\n",
      " |  \n",
      " |  __gt__(self, value, /)\n",
      " |      Return self>value.\n",
      " |  \n",
      " |  __hash__(self, /)\n",
      " |      Return hash(self).\n",
      " |  \n",
      " |  __iter__(self, /)\n",
      " |      Implement iter(self).\n",
      " |  \n",
      " |  __le__(self, value, /)\n",
      " |      Return self<=value.\n",
      " |  \n",
      " |  __len__(self, /)\n",
      " |      Return len(self).\n",
      " |  \n",
      " |  __lt__(self, value, /)\n",
      " |      Return self<value.\n",
      " |  \n",
      " |  __ne__(self, value, /)\n",
      " |      Return self!=value.\n",
      " |  \n",
      " |  __reduce__(...)\n",
      " |      Helper for pickle.\n",
      " |  \n",
      " |  __repr__(self, /)\n",
      " |      Return repr(self).\n",
      " |  \n",
      " |  __reversed__(...)\n",
      " |      Return a reverse iterator.\n",
      " |  \n",
      " |  count(...)\n",
      " |      rangeobject.count(value) -> integer -- return number of occurrences of value\n",
      " |  \n",
      " |  index(...)\n",
      " |      rangeobject.index(value) -> integer -- return index of value.\n",
      " |      Raise ValueError if the value is not present.\n",
      " |  \n",
      " |  ----------------------------------------------------------------------\n",
      " |  Static methods defined here:\n",
      " |  \n",
      " |  __new__(*args, **kwargs) from builtins.type\n",
      " |      Create and return a new object.  See help(type) for accurate signature.\n",
      " |  \n",
      " |  ----------------------------------------------------------------------\n",
      " |  Data descriptors defined here:\n",
      " |  \n",
      " |  start\n",
      " |  \n",
      " |  step\n",
      " |  \n",
      " |  stop\n",
      "\n"
     ]
    }
   ],
   "source": [
    "help(range)"
   ]
  },
  {
   "cell_type": "code",
   "execution_count": 92,
   "metadata": {},
   "outputs": [
    {
     "name": "stdout",
     "output_type": "stream",
     "text": [
      "77.4 ms ± 0 ns per loop (mean ± std. dev. of 1 run, 10 loops each)\n",
      "43 ms ± 0 ns per loop (mean ± std. dev. of 1 run, 10 loops each)\n",
      "44.4 ms ± 0 ns per loop (mean ± std. dev. of 1 run, 10 loops each)\n",
      "32.4 ms ± 0 ns per loop (mean ± std. dev. of 1 run, 10 loops each)\n",
      "31.7 ms ± 0 ns per loop (mean ± std. dev. of 1 run, 10 loops each)\n",
      "32.2 ms ± 0 ns per loop (mean ± std. dev. of 1 run, 10 loops each)\n",
      "33.2 ms ± 0 ns per loop (mean ± std. dev. of 1 run, 10 loops each)\n",
      "34.5 ms ± 0 ns per loop (mean ± std. dev. of 1 run, 10 loops each)\n",
      "34.1 ms ± 0 ns per loop (mean ± std. dev. of 1 run, 10 loops each)\n",
      "33.2 ms ± 0 ns per loop (mean ± std. dev. of 1 run, 10 loops each)\n",
      "34.3 ms ± 0 ns per loop (mean ± std. dev. of 1 run, 10 loops each)\n",
      "33.6 ms ± 0 ns per loop (mean ± std. dev. of 1 run, 10 loops each)\n",
      "35.1 ms ± 0 ns per loop (mean ± std. dev. of 1 run, 10 loops each)\n",
      "32.9 ms ± 0 ns per loop (mean ± std. dev. of 1 run, 10 loops each)\n",
      "34.3 ms ± 0 ns per loop (mean ± std. dev. of 1 run, 10 loops each)\n"
     ]
    }
   ],
   "source": [
    "x = []\n",
    "n_cores = range(1, 16, 1)\n",
    "for n in n_cores:\n",
    "    time_taken = %timeit -r 1 -o da.arange(5*10**7).sum().compute(num_workers=n)\n",
    "    x.append(time_taken.average)"
   ]
  },
  {
   "cell_type": "code",
   "execution_count": 93,
   "metadata": {},
   "outputs": [
    {
     "data": {
      "text/plain": [
       "<Axes: xlabel='n'>"
      ]
     },
     "execution_count": 93,
     "metadata": {},
     "output_type": "execute_result"
    },
    {
     "data": {
      "image/png": "[encoded data removed]",
      "text/plain": [
       "<Figure size 640x480 with 1 Axes>"
      ]
     },
     "metadata": {},
     "output_type": "display_data"
    }
   ],
   "source": [
    "import pandas as pd\n",
    "data = pd.DataFrame({\"n\": n_cores, \"t\": x})\n",
    "data.set_index(\"n\").plot()"
   ]
  },
  {
   "cell_type": "markdown",
   "metadata": {},
   "source": [
    "**Discussion**\n",
    "- Because of hyperthreading, the running time is increasing when using more than 4 cores. Or at least there is not much more to gain.\n",
    "- On most hardware architectures, it does not make much sense to use more workers than we have cores\n",
    "- But whether the running time increases or not when using more than the number of physical cores perhaps depends on the specific system architecture. When it's better optimized, the loss in performance from using too many workers is smaller."
   ]
  },
  {
   "cell_type": "markdown",
   "metadata": {},
   "source": [
    "**Key points**\n",
    "- understanding performance is often non-trivial \n",
    "- memory and speed are equally important\n",
    "- measuring is knowing"
   ]
  },
  {
   "cell_type": "code",
   "execution_count": null,
   "metadata": {},
   "outputs": [],
   "source": []
  },
  {
   "cell_type": "code",
   "execution_count": null,
   "metadata": {},
   "outputs": [],
   "source": []
  }
 ],
 "metadata": {
  "kernelspec": {
   "display_name": ".venv",
   "language": "python",
   "name": "python3"
  },
  "language_info": {
   "codemirror_mode": {
    "name": "ipython",
    "version": 3
   },
   "file_extension": ".py",
   "mimetype": "text/x-python",
   "name": "python",
   "nbconvert_exporter": "python",
   "pygments_lexer": "ipython3",
   "version": "3.9.16"
  }
 },
 "nbformat": 4,
 "nbformat_minor": 2
}
