{
 "cells": [
  {
   "cell_type": "markdown",
   "metadata": {},
   "source": [
    "**Note: time unit conversions**\n",
    "\n",
    "- 1ns = 1e-6 ms = 0.000001 millisecond\n",
    "- 1 millisecond (ms) = 0.001 seconds\n",
    "- 1 microsecond = 0.001 millseconds\n",
    "- alternatively \n",
    "    - 10e-9 = nanosecond (ns)\n",
    "    - 10e-6 = microsecond (mu s)\n",
    "    - 10e-3 = millisecond (ms)\n",
    "\n",
    "\n",
    "**Note: interpreting timings**\n",
    "\n",
    "- `user` + `sys` tell us whow much actual CPU time the process has used. `user` is the time taken on the CPU and `sys` is additional time taken such as allocating memory, which the code cannot do from \"user\" mode.\n",
    "- I think wall time is `real`, and could be confounded by other processes\n",
    "\n",
    "## Computing $\\pi$\n",
    "\n",
    "We now start with the first paralellization tasks. We will\n",
    "- see how a python application can be parallelized\n",
    "- discuss **data parallelism** and **task parallelism**\n",
    "\n",
    "\n",
    "We use the example of computing $\\pi$ because it is a simple example that still takes some time to compute, so perfect for our instructional purposes.\n",
    "\n",
    "The way this works is with **Monte-Carlo** methods--this means approximating exact results with random numbers and simulation.\n",
    "\n"
   ]
  },
  {
   "cell_type": "markdown",
   "metadata": {},
   "source": [
    "### The geometry behind \n",
    "<mark> add figure from online material </mark>\n",
    "- [link to online material](https://esciencecenter-digital-skills.github.io/parallel-python-workbench/instructor/computing-pi.html)\n",
    "- assume a unit radius\n",
    "- then the surface of the square is `4r^2`\n",
    "- the surface of the circle is `pi r^2`\n",
    "- if we can compute the surfaces, we can call them `M` for the circle and `N` for the square\n",
    "- then we have `M / N = pi r^2 / 4 r^2`\n",
    "- solving for `pi` we get `pi = 4 M / N`\n",
    "\n",
    "How do we get `M` and `N`?\n",
    "\n",
    "<mark> Exercise: implement the algorithm (time?) </mark>\n",
    "- using only standard python and the `random.uniform` function"
   ]
  },
  {
   "cell_type": "code",
   "execution_count": 169,
   "metadata": {},
   "outputs": [],
   "source": [
    "import random \n",
    "import math \n",
    "\n",
    "def calc_pi(N):\n",
    "    \"Compute pi using N random samples\"\n",
    "    M = 0 \n",
    "    for i in range(N):\n",
    "        # Simulate random coordinates\n",
    "        x = random.uniform(-1, 1)\n",
    "        y = random.uniform(-1, 1)\n",
    "        if x**2 + y**2 < 1: # don't need sqrt b/c 1**2 = 1\n",
    "            M += 1\n",
    "\n",
    "    return 4*M/N"
   ]
  },
  {
   "cell_type": "code",
   "execution_count": 170,
   "metadata": {},
   "outputs": [
    {
     "name": "stdout",
     "output_type": "stream",
     "text": [
      "546 ms ± 3.74 ms per loop (mean ± std. dev. of 7 runs, 1 loop each)\n"
     ]
    }
   ],
   "source": [
    "time_forloop = %timeit -o calc_pi(10**6)\n"
   ]
  },
  {
   "cell_type": "markdown",
   "metadata": {},
   "source": [
    "Before starting to parallelize, we should make the inner function (the for loop) as efficient as possible. We discuss two options\n",
    "1. vectorization with `numpy` \n",
    "2. native code generation with `numba`\n",
    "\n",
    "Vectorization works by applying the computation over an array of numbers, instead of each number individually.\n",
    "\n",
    "What does `numba` do? \n",
    "- when we execute python code, the line is *interpreted* and directly performed. the speed of this depends on how the programming language is designed *(interpretation)*\n",
    "- an alternative is *compiled* code, where we write in some language and the translate the code to machine code. Only after this we execute the program. *(ahead-of-time compilation)*\n",
    "- numba sits in between the two and performs *just-in-time compilation*. It generates optimized machine code---that is faster than python code---, at runtime. This means that our code is compiled to machine code as we define the function. \n",
    "    - this is faster than python code but has additional overhead from compiling\n"
   ]
  },
  {
   "cell_type": "markdown",
   "metadata": {},
   "source": [
    "#### Numpy"
   ]
  },
  {
   "cell_type": "code",
   "execution_count": 171,
   "metadata": {},
   "outputs": [
    {
     "data": {
      "text/plain": [
       "3.28"
      ]
     },
     "execution_count": 171,
     "metadata": {},
     "output_type": "execute_result"
    }
   ],
   "source": [
    "# can use this to show how to get to the function below\n",
    "import numpy as np \n",
    "np.random.uniform(-1, 1, (1, 1))\n",
    "points = np.random.uniform(-1, 1, (2, 100))\n",
    "(points**2).sum(axis=0)\n",
    "(points**2).sum(axis=0) < 1\n",
    "np.count_nonzero((points**2).sum(axis=0) < 1)\n",
    "\n",
    "M = np.count_nonzero((points**2).sum(axis=0) < 1)\n",
    "\n",
    "4 * M / 100"
   ]
  },
  {
   "cell_type": "code",
   "execution_count": 172,
   "metadata": {},
   "outputs": [],
   "source": [
    "def calc_pi_numpy(N):\n",
    "    \"Compute pi using N samples with numpy\"\n",
    "    points = np.random.uniform(-1, 1, (2, N))\n",
    "    # M = np.count_nonzero((points**2).sum(axis=0) < 1)\n",
    "    M = np.count_nonzero((points**2).sum(axis=0) < 1)\n",
    "    return 4 * M / N\n"
   ]
  },
  {
   "cell_type": "code",
   "execution_count": 173,
   "metadata": {},
   "outputs": [
    {
     "data": {
      "text/plain": [
       "3.144092"
      ]
     },
     "execution_count": 173,
     "metadata": {},
     "output_type": "execute_result"
    }
   ],
   "source": [
    "calc_pi_numpy(10**6)"
   ]
  },
  {
   "cell_type": "code",
   "execution_count": 174,
   "metadata": {},
   "outputs": [
    {
     "name": "stdout",
     "output_type": "stream",
     "text": [
      "16.9 ms ± 588 µs per loop (mean ± std. dev. of 7 runs, 100 loops each)\n"
     ]
    }
   ],
   "source": [
    "time_numpy = %timeit -o calc_pi_numpy(10**6)\n"
   ]
  },
  {
   "cell_type": "code",
   "execution_count": 175,
   "metadata": {},
   "outputs": [
    {
     "name": "stdout",
     "output_type": "stream",
     "text": [
      "Using numpy is 32.29 times faster than using the for loop\n"
     ]
    }
   ],
   "source": [
    "speedup = time_forloop.average / time_numpy.average\n",
    "print(f\"Using numpy is {speedup:.2f} times faster than using the for loop\")"
   ]
  },
  {
   "cell_type": "markdown",
   "metadata": {},
   "source": [
    "This is a *vectorized* version of the algorithm: It demonstrates **data parallelism** where a single operation is applied over a collection of data. \n",
    "\n",
    "This contrasts to **task parallelism** where different independent procedures are applied in parallel. Example: cutting vegetables while simmering the split peas.\n",
    "\n",
    "<mark>Discussion: Is this all better?</mark>\n",
    "\n",
    "What are the downside of the vectorized implementation, and of data parallelism in general?\n",
    "- it uses more memory\n",
    "- it is perhaps less intuitive \n",
    "- it is more monolithic and it cannot easily be broken up into parts -- in contrast to the example below."
   ]
  },
  {
   "cell_type": "markdown",
   "metadata": {},
   "source": [
    "<mark> Challenge: Daskify </mark>\n",
    "\n",
    "Write `calc_pi_dask` to make the numpy version parallel. Compare speed and memory performance with the numpy version. Remember that dask.array mimics the numpy API."
   ]
  },
  {
   "cell_type": "code",
   "execution_count": 176,
   "metadata": {},
   "outputs": [
    {
     "data": {
      "text/plain": [
       "80"
      ]
     },
     "execution_count": 176,
     "metadata": {},
     "output_type": "execute_result"
    }
   ],
   "source": [
    "#can use this to illustrate how get to to the function below\n",
    "import dask.array as da\n",
    "points = da.random.uniform(-1, 1, (2, 100))\n",
    "(points**2).sum(axis=0).compute() < 1\n",
    "work = da.count_nonzero((points**2).sum(axis=0) < 1)\n",
    "work.compute()"
   ]
  },
  {
   "cell_type": "code",
   "execution_count": 177,
   "metadata": {},
   "outputs": [],
   "source": [
    "def calc_pi_dask(N):\n",
    "    \"Compute pi using N samples with dask\"\n",
    "    points = da.random.uniform(-1, 1, (2, N))\n",
    "    work = da.count_nonzero((points**2).sum(axis=0) < 1)\n",
    "    \n",
    "    # using the physical number of cores, as we found out in previous episode\n",
    "    M = work.compute(num_workers=4) \n",
    "    return 4 * M / N\n"
   ]
  },
  {
   "cell_type": "code",
   "execution_count": 178,
   "metadata": {},
   "outputs": [
    {
     "data": {
      "text/plain": [
       "3.141164"
      ]
     },
     "execution_count": 178,
     "metadata": {},
     "output_type": "execute_result"
    }
   ],
   "source": [
    "calc_pi_dask(10**6)"
   ]
  },
  {
   "cell_type": "code",
   "execution_count": 179,
   "metadata": {},
   "outputs": [
    {
     "name": "stdout",
     "output_type": "stream",
     "text": [
      "24.7 ms ± 1.04 ms per loop (mean ± std. dev. of 7 runs, 10 loops each)\n"
     ]
    }
   ],
   "source": [
    "time_dask = %timeit -o calc_pi_dask(10**6)\n"
   ]
  },
  {
   "cell_type": "code",
   "execution_count": 180,
   "metadata": {},
   "outputs": [
    {
     "name": "stdout",
     "output_type": "stream",
     "text": [
      "Using dask is 22.10 times faster than using the for loop\n"
     ]
    }
   ],
   "source": [
    "speedup = time_forloop.average / time_dask.average\n",
    "print(f\"Using dask is {speedup:.2f} times faster than using the for loop\")"
   ]
  },
  {
   "cell_type": "markdown",
   "metadata": {},
   "source": [
    "**Compare memory and performance**"
   ]
  },
  {
   "cell_type": "code",
   "execution_count": 181,
   "metadata": {},
   "outputs": [],
   "source": [
    "from memory_profiler import memory_usage\n",
    "import matplotlib.pyplot as plt "
   ]
  },
  {
   "cell_type": "code",
   "execution_count": 182,
   "metadata": {},
   "outputs": [],
   "source": [
    "# Little wrappers to make life easy\n",
    "N = 10**8\n",
    "def pi_with_numpy():\n",
    "    return calc_pi_numpy(N)\n",
    "\n",
    "def pi_with_dask():\n",
    "    return calc_pi_dask(N)"
   ]
  },
  {
   "cell_type": "code",
   "execution_count": 183,
   "metadata": {},
   "outputs": [
    {
     "name": "stdout",
     "output_type": "stream",
     "text": [
      "1.79 s ± 22.1 ms per loop (mean ± std. dev. of 7 runs, 1 loop each)\n"
     ]
    }
   ],
   "source": [
    "memory_numpy = memory_usage(pi_with_numpy, interval=0.01)\n",
    "time_numpy = %timeit -o pi_with_numpy()"
   ]
  },
  {
   "cell_type": "code",
   "execution_count": 184,
   "metadata": {},
   "outputs": [
    {
     "name": "stdout",
     "output_type": "stream",
     "text": [
      "763 ms ± 20.3 ms per loop (mean ± std. dev. of 7 runs, 1 loop each)\n"
     ]
    }
   ],
   "source": [
    "memory_dask = memory_usage(pi_with_dask, interval=0.01)\n",
    "time_dask = %timeit -o pi_with_dask()"
   ]
  },
  {
   "cell_type": "code",
   "execution_count": 185,
   "metadata": {},
   "outputs": [
    {
     "name": "stdout",
     "output_type": "stream",
     "text": [
      "Using dask is 2.35 times faster than using numpy\n"
     ]
    }
   ],
   "source": [
    "speedup = time_numpy.average / time_dask.average\n",
    "print(f\"Using dask is {speedup:.2f} times faster than using numpy\")"
   ]
  },
  {
   "cell_type": "code",
   "execution_count": 186,
   "metadata": {},
   "outputs": [
    {
     "data": {
      "image/png": "[encoded data removed]",
      "text/plain": [
       "<Figure size 640x480 with 1 Axes>"
      ]
     },
     "metadata": {},
     "output_type": "display_data"
    }
   ],
   "source": [
    "plt.plot(memory_numpy, label=\"numpy\")\n",
    "plt.plot(memory_dask, label=\"dask\")\n",
    "plt.xlabel(\"Time step\")\n",
    "plt.ylabel(\"Memory in MB\")\n",
    "plt.legend()\n",
    "plt.show()"
   ]
  },
  {
   "cell_type": "markdown",
   "metadata": {},
   "source": [
    "### Using numba to accelerate python code\n",
    "\n",
    "numba makes it easy for us to build accelerated functions. We can call the decorator `numba.jit`. What does it do? -- It sends the function, to which we apply the decorator, to machine code when we execute the cell "
   ]
  },
  {
   "cell_type": "code",
   "execution_count": 187,
   "metadata": {},
   "outputs": [],
   "source": [
    "import numba \n",
    "\n",
    "@numba.jit \n",
    "def sum_range_numba(a):\n",
    "    \"Compute the sum of the numbers in the range [0, a)\"\n",
    "    x = 0 \n",
    "    for i in range(a):\n",
    "        x += 1 \n",
    "    return x "
   ]
  },
  {
   "cell_type": "markdown",
   "metadata": {},
   "source": [
    "Let's time three different versions of this."
   ]
  },
  {
   "cell_type": "code",
   "execution_count": 188,
   "metadata": {},
   "outputs": [
    {
     "name": "stdout",
     "output_type": "stream",
     "text": [
      "136 ms ± 3.47 ms per loop (mean ± std. dev. of 7 runs, 10 loops each)\n"
     ]
    }
   ],
   "source": [
    "## Naive python iterators\n",
    "time_naive = %timeit -o sum(range(10**7))"
   ]
  },
  {
   "cell_type": "code",
   "execution_count": 189,
   "metadata": {},
   "outputs": [
    {
     "name": "stdout",
     "output_type": "stream",
     "text": [
      "14.8 ms ± 303 µs per loop (mean ± std. dev. of 7 runs, 100 loops each)\n"
     ]
    }
   ],
   "source": [
    "# numpy \n",
    "time_numpy = %timeit -o np.arange(10**7).sum()"
   ]
  },
  {
   "cell_type": "code",
   "execution_count": 190,
   "metadata": {},
   "outputs": [
    {
     "name": "stdout",
     "output_type": "stream",
     "text": [
      "135 ns ± 3.05 ns per loop (mean ± std. dev. of 7 runs, 10,000,000 loops each)\n"
     ]
    }
   ],
   "source": [
    "# numba \n",
    "time_numba = %timeit -o sum_range_numba(10**7)\n",
    "# sometimes a warning appears \"[could be that ..] intermediate result is being cached\". \n",
    "# re-running usually helps"
   ]
  },
  {
   "cell_type": "code",
   "execution_count": 191,
   "metadata": {},
   "outputs": [
    {
     "name": "stdout",
     "output_type": "stream",
     "text": [
      "Using numba is 109510.98 times faster than using numpy\n"
     ]
    }
   ],
   "source": [
    "speedup = time_numpy.average / time_numba.average\n",
    "print(f\"Using numba is {speedup:.2f} times faster than using numpy\")"
   ]
  },
  {
   "cell_type": "markdown",
   "metadata": {},
   "source": [
    "So, numba is 100k times faster (?)\n",
    "\n",
    "(14.7.5 * 10e-3) / (128 * 10e-9) = (17.5 * 10e-3) / (12.8 * 10e-8) = 10e-5\n",
    "\n",
    "`numba` JIT does not work on every python or numpy feature, but a function is a good candidate if written with a python for-loop over a large range of values, as with `sum_range_numba()`.\n"
   ]
  },
  {
   "cell_type": "markdown",
   "metadata": {},
   "source": [
    "**Note on just-in-time compilation**\n",
    "- there may be little or no speed-up when function is called the first time \n",
    "- similarly, when using `timeit` you may get the following message\n",
    "    - `The slowest run took 14.83 times longer than the fastest. This could mean that an intermediate result is being cached.`\n",
    "- reason: on the first call, the JIT compiler needs to compile the function. on subsequent runs, the function is reused\n",
    "- **the same function can only be reused if it is called with the same argument types (int, float, etc)**"
   ]
  },
  {
   "cell_type": "code",
   "execution_count": 192,
   "metadata": {},
   "outputs": [
    {
     "name": "stdout",
     "output_type": "stream",
     "text": [
      "CPU times: user 5 µs, sys: 0 ns, total: 5 µs\n",
      "Wall time: 7.15 µs\n"
     ]
    },
    {
     "data": {
      "text/plain": [
       "10000000"
      ]
     },
     "execution_count": 192,
     "metadata": {},
     "output_type": "execute_result"
    }
   ],
   "source": [
    "%time sum_range_numba(10**7)"
   ]
  },
  {
   "cell_type": "code",
   "execution_count": 193,
   "metadata": {},
   "outputs": [
    {
     "name": "stdout",
     "output_type": "stream",
     "text": [
      "CPU times: user 130 ms, sys: 7.73 ms, total: 138 ms\n",
      "Wall time: 137 ms\n"
     ]
    },
    {
     "data": {
      "text/plain": [
       "10000000"
      ]
     },
     "execution_count": 193,
     "metadata": {},
     "output_type": "execute_result"
    }
   ],
   "source": [
    "%time sum_range_numba(10.**7)"
   ]
  },
  {
   "cell_type": "code",
   "execution_count": 194,
   "metadata": {},
   "outputs": [
    {
     "name": "stdout",
     "output_type": "stream",
     "text": [
      "CPU times: user 7 µs, sys: 1 µs, total: 8 µs\n",
      "Wall time: 11.7 µs\n"
     ]
    },
    {
     "data": {
      "text/plain": [
       "10000000"
      ]
     },
     "execution_count": 194,
     "metadata": {},
     "output_type": "execute_result"
    }
   ],
   "source": [
    "%time sum_range_numba(10.**7)"
   ]
  },
  {
   "cell_type": "markdown",
   "metadata": {},
   "source": [
    "<mark>Challenge: numbify `calc_pi`</mark>\n",
    "\n",
    "Create a numba version of `calc_pi`. Time it."
   ]
  },
  {
   "cell_type": "code",
   "execution_count": 195,
   "metadata": {},
   "outputs": [],
   "source": [
    "# note we're moving back to a function that looks similar to the original function\n",
    "@numba.jit\n",
    "def calc_pi_numba(N):\n",
    "    \"Compute pi using N samples with numba\"\n",
    "    M = 0 \n",
    "    for i in range(N):\n",
    "        # Simulate random coordinates\n",
    "        x = random.uniform(-1, 1)\n",
    "        y = random.uniform(-1, 1)\n",
    "        if x**2 + y**2 < 1.0: # don't need sqrt b/c 1**2 = 1\n",
    "            M += 1\n",
    "\n",
    "    return 4*M/N"
   ]
  },
  {
   "cell_type": "code",
   "execution_count": 196,
   "metadata": {},
   "outputs": [
    {
     "data": {
      "text/plain": [
       "3.142"
      ]
     },
     "execution_count": 196,
     "metadata": {},
     "output_type": "execute_result"
    }
   ],
   "source": [
    "calc_pi_numba(10**7)"
   ]
  },
  {
   "cell_type": "code",
   "execution_count": 197,
   "metadata": {},
   "outputs": [
    {
     "name": "stdout",
     "output_type": "stream",
     "text": [
      "6.89 ms ± 67.1 µs per loop (mean ± std. dev. of 7 runs, 100 loops each)\n"
     ]
    }
   ],
   "source": [
    "time_numba = %timeit -o calc_pi_numba(10**6)\n"
   ]
  },
  {
   "cell_type": "code",
   "execution_count": 199,
   "metadata": {},
   "outputs": [
    {
     "name": "stdout",
     "output_type": "stream",
     "text": [
      "Using numba is 110.70 times faster than using dask\n"
     ]
    }
   ],
   "source": [
    "speedup = time_dask.average / time_numba.average\n",
    "print(f\"Using numba is {speedup:.2f} times faster than using dask\")"
   ]
  },
  {
   "cell_type": "markdown",
   "metadata": {},
   "source": [
    "- also: random number generator changes"
   ]
  },
  {
   "cell_type": "markdown",
   "metadata": {},
   "source": [
    "## Conclusion\n",
    "- measuring - knowing: always profile your code to see which parallelization method works best \n",
    "- numba often outperforms other methods, but it is not always possible to rewrite code so that one can use numba with it"
   ]
  }
 ],
 "metadata": {
  "kernelspec": {
   "display_name": ".venv",
   "language": "python",
   "name": "python3"
  },
  "language_info": {
   "codemirror_mode": {
    "name": "ipython",
    "version": 3
   },
   "file_extension": ".py",
   "mimetype": "text/x-python",
   "name": "python",
   "nbconvert_exporter": "python",
   "pygments_lexer": "ipython3",
   "version": "3.10.2"
  }
 },
 "nbformat": 4,
 "nbformat_minor": 2
}
