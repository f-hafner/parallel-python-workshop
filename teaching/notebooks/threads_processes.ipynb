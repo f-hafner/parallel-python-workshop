{
 "cells": [
  {
   "attachments": {},
   "cell_type": "markdown",
   "metadata": {},
   "source": [
    "# Threads & processes"
   ]
  },
  {
   "attachments": {},
   "cell_type": "markdown",
   "metadata": {},
   "source": [
    "### Lessons learned \n",
    "- GIL\n",
    "    - [link](https://realpython.com/python-gil/)\n",
    "- short summary\n",
    "    - python keeps track of how many objects refer to a given object x (reference count)\n",
    "    - when the reference count reaches 0, the memory occupied by object x is released\n",
    "- alternatives:\n",
    "    - garbage collection (as is done in R)\n",
    "    - numba has an option to force the GIL off\n",
    "- threading\n",
    "    - some discussion [here](https://stackoverflow.com/questions/15085348/what-is-the-use-of-join-in-threading)\n",
    "\n",
    "#### Questions\n",
    "- when is threading a good option?\n",
    "- guidance on when multiprocessing is worth it?\n",
    "- see questions on model solutions from exercises at the end of the notebook"
   ]
  },
  {
   "cell_type": "code",
   "execution_count": 1,
   "metadata": {},
   "outputs": [],
   "source": [
    "# copying pi from previous episode \n",
    "import random\n",
    "\n",
    "def calc_pi(N):\n",
    "    M = 0\n",
    "    for i in range(N):\n",
    "        # Simulate impact coordinates\n",
    "        x = random.uniform(-1, 1)\n",
    "        y = random.uniform(-1, 1)\n",
    "\n",
    "        # True if impact happens inside the circle\n",
    "        if x**2 + y**2 < 1.0:\n",
    "            M += 1\n",
    "    return 4 * M / N\n",
    "\n"
   ]
  },
  {
   "cell_type": "code",
   "execution_count": 2,
   "metadata": {},
   "outputs": [],
   "source": [
    "from threading import (Thread)"
   ]
  },
  {
   "cell_type": "code",
   "execution_count": 15,
   "metadata": {},
   "outputs": [
    {
     "name": "stdout",
     "output_type": "stream",
     "text": [
      "CPU times: user 8.15 s, sys: 24.1 ms, total: 8.17 s\n",
      "Wall time: 8.15 s\n"
     ]
    }
   ],
   "source": [
    "%%time\n",
    "n = 10**7\n",
    "t1 = Thread(target=calc_pi, args=(n,))\n",
    "t2 = Thread(target=calc_pi, args=(n,))\n",
    "\n",
    "t1.start()\n",
    "t2.start()\n",
    "t1.join()\n",
    "t2.join()"
   ]
  },
  {
   "cell_type": "code",
   "execution_count": 14,
   "metadata": {},
   "outputs": [],
   "source": []
  },
  {
   "attachments": {},
   "cell_type": "markdown",
   "metadata": {},
   "source": [
    "### Numba without GIL"
   ]
  },
  {
   "cell_type": "code",
   "execution_count": 16,
   "metadata": {},
   "outputs": [],
   "source": [
    "import numba \n",
    "@numba.jit(nopython=True, nogil=True)\n",
    "def calc_pi_nogil(N):\n",
    "    M = 0\n",
    "    for i in range(N):\n",
    "        x = random.uniform(-1, 1)\n",
    "        y = random.uniform(-1, 1)\n",
    "        if x**2 + y**2 < 1:\n",
    "            M += 1\n",
    "    return 4 * M / N"
   ]
  },
  {
   "cell_type": "code",
   "execution_count": 18,
   "metadata": {},
   "outputs": [
    {
     "name": "stdout",
     "output_type": "stream",
     "text": [
      "63.1 ms ± 316 µs per loop (mean ± std. dev. of 7 runs, 10 loops each)\n"
     ]
    }
   ],
   "source": [
    "calc_pi_nogil(100)\n",
    "%timeit calc_pi_nogil(10**7) # same as with GIL"
   ]
  },
  {
   "attachments": {},
   "cell_type": "markdown",
   "metadata": {},
   "source": [
    "### Threading a numpy function"
   ]
  },
  {
   "attachments": {},
   "cell_type": "markdown",
   "metadata": {},
   "source": [
    "#### My solution\n",
    "\n",
    "What is the point here?\n",
    "- sequential vs parallel does not make a difference? (neither for np nor for normal sorted?)\n",
    "- numpy + threading takes longer than numpy only?"
   ]
  },
  {
   "cell_type": "code",
   "execution_count": 55,
   "metadata": {},
   "outputs": [
    {
     "data": {
      "text/plain": [
       "(1000,)"
      ]
     },
     "execution_count": 55,
     "metadata": {},
     "output_type": "execute_result"
    }
   ],
   "source": [
    "import numpy as np \n",
    "rng = np.random.default_rng(3)\n",
    "\n",
    "N = 1000\n",
    "a = rng.integers(0, 100, (N,))\n",
    "b = rng.integers(0, 100, (N,))\n"
   ]
  },
  {
   "cell_type": "code",
   "execution_count": 45,
   "metadata": {},
   "outputs": [],
   "source": [
    "def threaded_func(f, a, b):\n",
    "    \"sort two arrays a and b with threading in parallel\"\n",
    "    t1 = Thread(target=f, args=(a,))\n",
    "    t2 = Thread(target=f, args=(b,))\n",
    "\n",
    "    t1.start()\n",
    "    t2.start()\n",
    "    t1.join()\n",
    "    t2.join()\n",
    "\n",
    "def sequential_func(f, a, b):\n",
    "    \"sort two arrays a and b with threading sequentially\"\n",
    "    t1 = Thread(target=f, args=(a,))\n",
    "    t2 = Thread(target=f, args=(b,))\n",
    "\n",
    "    t1.start()\n",
    "    t1.join()\n",
    "    t2.start()\n",
    "    t2.join()\n"
   ]
  },
  {
   "attachments": {},
   "cell_type": "markdown",
   "metadata": {},
   "source": [
    "numpy"
   ]
  },
  {
   "cell_type": "code",
   "execution_count": 54,
   "metadata": {},
   "outputs": [
    {
     "name": "stdout",
     "output_type": "stream",
     "text": [
      "4.88 µs ± 24.6 ns per loop (mean ± std. dev. of 7 runs, 100,000 loops each)\n"
     ]
    }
   ],
   "source": [
    "%timeit np.sort(a)"
   ]
  },
  {
   "cell_type": "code",
   "execution_count": 47,
   "metadata": {},
   "outputs": [
    {
     "name": "stdout",
     "output_type": "stream",
     "text": [
      "113 µs ± 33.9 µs per loop (mean ± std. dev. of 10 runs, 10 loops each)\n"
     ]
    }
   ],
   "source": [
    "%timeit -r 10 -n 10 threaded_func(np.sort, a, b)"
   ]
  },
  {
   "cell_type": "code",
   "execution_count": 48,
   "metadata": {},
   "outputs": [
    {
     "name": "stdout",
     "output_type": "stream",
     "text": [
      "107 µs ± 29.5 µs per loop (mean ± std. dev. of 10 runs, 10 loops each)\n"
     ]
    }
   ],
   "source": [
    "%timeit -r 10 -n 10 sequential_func(np.sort, a, b)"
   ]
  },
  {
   "attachments": {},
   "cell_type": "markdown",
   "metadata": {},
   "source": [
    "sorted "
   ]
  },
  {
   "cell_type": "code",
   "execution_count": 57,
   "metadata": {},
   "outputs": [
    {
     "name": "stdout",
     "output_type": "stream",
     "text": [
      "132 µs ± 296 ns per loop (mean ± std. dev. of 7 runs, 10,000 loops each)\n"
     ]
    }
   ],
   "source": [
    "%timeit sorted(a)"
   ]
  },
  {
   "cell_type": "code",
   "execution_count": 49,
   "metadata": {},
   "outputs": [
    {
     "name": "stdout",
     "output_type": "stream",
     "text": [
      "382 µs ± 44.9 µs per loop (mean ± std. dev. of 10 runs, 10 loops each)\n"
     ]
    }
   ],
   "source": [
    "%timeit -r 10 -n 10 threaded_func(sorted, a, b)"
   ]
  },
  {
   "cell_type": "code",
   "execution_count": 50,
   "metadata": {},
   "outputs": [
    {
     "name": "stdout",
     "output_type": "stream",
     "text": [
      "380 µs ± 52.7 µs per loop (mean ± std. dev. of 10 runs, 10 loops each)\n"
     ]
    }
   ],
   "source": [
    "%timeit -r 10 -n 10 sequential_func(sorted, a, b)"
   ]
  },
  {
   "attachments": {},
   "cell_type": "markdown",
   "metadata": {},
   "source": [
    "#### Solution from episode"
   ]
  },
  {
   "cell_type": "code",
   "execution_count": 40,
   "metadata": {},
   "outputs": [
    {
     "name": "stdout",
     "output_type": "stream",
     "text": [
      "11.3 µs ± 6.45 µs per loop (mean ± std. dev. of 10 runs, 10 loops each)\n"
     ]
    }
   ],
   "source": [
    "high = 1000\n",
    "rnd1 = np.random.random(high)\n",
    "rnd2 = np.random.random(high)\n",
    "%timeit -n 10 -r 10 np.sort(rnd1)"
   ]
  },
  {
   "cell_type": "code",
   "execution_count": 41,
   "metadata": {},
   "outputs": [
    {
     "name": "stdout",
     "output_type": "stream",
     "text": [
      "85.1 µs ± 21.3 µs per loop (mean ± std. dev. of 10 runs, 10 loops each)\n"
     ]
    }
   ],
   "source": [
    "%%timeit -n 10 -r 10\n",
    "t1 = Thread(target=np.sort, args=(rnd1, ))\n",
    "t2 = Thread(target=np.sort, args=(rnd2, ))\n",
    "\n",
    "t1.start()\n",
    "t2.start()\n",
    "\n",
    "t1.join()\n",
    "t2.join()"
   ]
  },
  {
   "attachments": {},
   "cell_type": "markdown",
   "metadata": {},
   "source": [
    "### Calculate $\\pi$ with a queue\n"
   ]
  },
  {
   "attachments": {},
   "cell_type": "markdown",
   "metadata": {},
   "source": [
    "#### My solution\n",
    "\n",
    "- this does not work. why?\n",
    "- how efficient is it? in each iteration, only one point is calculated\n",
    "\n",
    "I followed these two examples:\n",
    "- https://stackoverflow.com/questions/21609595/python-multiprocessing-with-an-updating-queue-and-an-output-queue\n",
    "- https://stackoverflow.com/questions/11515944/how-to-use-multiprocessing-queue-in-python\n",
    "\n",
    "What I did differently from the model solution (below):\n",
    "- also have input queue with the points (I started with only an input queue, and added the output queue later on)\n",
    "- did not use context "
   ]
  },
  {
   "cell_type": "code",
   "execution_count": 69,
   "metadata": {},
   "outputs": [],
   "source": [
    "from multiprocessing import Process, Queue\n",
    "\n",
    "def reader_process(input_queue, output_queue):\n",
    "    \"Read from queue and return whether point is in circle or not.\"  \n",
    "    while True:\n",
    "        msg = input_queue.get()\n",
    "        if msg == \"DONE\":\n",
    "            break\n",
    "        x, y = msg\n",
    "    result = x**2 + y**2 < 1.0\n",
    "    output_queue.put(result)\n",
    "\n",
    "\n",
    "def writer(N, num_of_reader_procs, queue):\n",
    "    \"Write points into the queue. A reader_process will read them and return the result.\"\n",
    "    for _ in range(0, N):\n",
    "        # Simulate impact coordinates\n",
    "        x = random.uniform(-1, 1)\n",
    "        y = random.uniform(-1, 1)\n",
    "        msg = (x, y)\n",
    "        queue.put(msg)\n",
    "\n",
    "    for _ in range(0, num_of_reader_procs): # need one \"Done\" for each reader process (?)\n",
    "        queue.put(\"DONE\")\n",
    "    \n",
    "def start_reader_procs(qq_in, qq_out, num_of_reader_procs):\n",
    "    \"\"\"Start the reader processes and return all in a list to the caller\"\"\"\n",
    "    all_reader_procs = []\n",
    "    for _ in range(0, num_of_reader_procs):\n",
    "        reader_p = Process(target=reader_process, args=(qq_in, qq_out))\n",
    "        reader_p.daemon = True # what does this do?\n",
    "        reader_p.start()\n",
    "        all_reader_procs.append(reader_p)\n",
    "\n",
    "    return all_reader_procs\n",
    "\n",
    "\n",
    "def calc_pi_mp(N):\n",
    "    \"Calculate pi with multiprocessing\"\n",
    "    input_q = Queue()\n",
    "    output_q = Queue()\n",
    "    n_reader_procs = 2\n",
    "    all_reader_procs = start_reader_procs(input_q, output_q, n_reader_procs)\n",
    "\n",
    "    writer(N, len(all_reader_procs), input_q)\n",
    "\n",
    "    for idx, a_reader_proc in enumerate(all_reader_procs):\n",
    "        print(f\"Waiting for reader_p.join() index {idx}\")\n",
    "        a_reader_proc.join()\n",
    "\n",
    "    M = 0\n",
    "    while True:\n",
    "        if output_q.empty() == True:\n",
    "            break \n",
    "        M += output_q.get_nowait()\n",
    "    \n",
    "    return M\n",
    "    # M = sum(results)\n",
    "    # return 4 * M / N\n",
    "\n"
   ]
  },
  {
   "cell_type": "code",
   "execution_count": 70,
   "metadata": {},
   "outputs": [
    {
     "name": "stdout",
     "output_type": "stream",
     "text": [
      "Waiting for reader_p.join() index 0\n",
      "Waiting for reader_p.join() index 1\n"
     ]
    },
    {
     "data": {
      "text/plain": [
       "0"
      ]
     },
     "execution_count": 70,
     "metadata": {},
     "output_type": "execute_result"
    }
   ],
   "source": [
    "calc_pi_mp(100)"
   ]
  },
  {
   "attachments": {},
   "cell_type": "markdown",
   "metadata": {},
   "source": [
    "#### Model solution\n",
    "- see `calc_pi_mp.py`"
   ]
  },
  {
   "cell_type": "code",
   "execution_count": 91,
   "metadata": {},
   "outputs": [
    {
     "name": "stdout",
     "output_type": "stream",
     "text": [
      "(3.1409236, 10000000)\n",
      "(3.1406512, 10000000)\n"
     ]
    }
   ],
   "source": [
    "!python -m notebooks.calc_pi_mp --method \"queue\""
   ]
  },
  {
   "attachments": {},
   "cell_type": "markdown",
   "metadata": {},
   "source": [
    "Questions\n",
    "- in a larger problem, what is the optimal way to split the number of repetitions (N) and the number of workers?\n",
    "- more generally, I do not clearly see the benefit of parallelization in the model solutions; should we not split the work across all the workers? where does this happen in the code?\n",
    "    - in both cases, it seems to me that we process the total number of iterations, instead of splitting them?\n",
    "    - [example 1](https://esciencecenter-digital-skills.github.io/parallel-python-workbench/threads-and-processes.html#challenge3), [example 2](https://esciencecenter-digital-skills.github.io/parallel-python-workbench/threads-and-processes.html)"
   ]
  },
  {
   "attachments": {},
   "cell_type": "markdown",
   "metadata": {},
   "source": [
    "### Calculate $\\pi$ with a process pool "
   ]
  },
  {
   "cell_type": "code",
   "execution_count": 95,
   "metadata": {},
   "outputs": [
    {
     "name": "stdout",
     "output_type": "stream",
     "text": [
      "1000 0.14762725299806334\n",
      "100000 0.2009583780018147\n",
      "10000000 6.208641796001757\n"
     ]
    }
   ],
   "source": [
    "!python -m notebooks.calc_pi_mp --method \"pool\""
   ]
  }
 ],
 "metadata": {
  "kernelspec": {
   "display_name": "Python 3",
   "language": "python",
   "name": "python3"
  },
  "language_info": {
   "codemirror_mode": {
    "name": "ipython",
    "version": 3
   },
   "file_extension": ".py",
   "mimetype": "text/x-python",
   "name": "python",
   "nbconvert_exporter": "python",
   "pygments_lexer": "ipython3",
   "version": "3.10.2"
  },
  "orig_nbformat": 4
 },
 "nbformat": 4,
 "nbformat_minor": 2
}
