{
 "cells": [
  {
   "attachments": {},
   "cell_type": "markdown",
   "metadata": {},
   "source": [
    "## Asyncio"
   ]
  },
  {
   "attachments": {},
   "cell_type": "markdown",
   "metadata": {},
   "source": [
    "### Generate all even numbers"
   ]
  },
  {
   "cell_type": "code",
   "execution_count": 2,
   "metadata": {},
   "outputs": [],
   "source": [
    "def integers(start=1, step=1):\n",
    "  a = start\n",
    "  while True:\n",
    "    yield a\n",
    "    a += step"
   ]
  },
  {
   "cell_type": "code",
   "execution_count": 3,
   "metadata": {},
   "outputs": [],
   "source": [
    "def evens():\n",
    "    return integers(start=2, step=2)"
   ]
  },
  {
   "cell_type": "code",
   "execution_count": 5,
   "metadata": {},
   "outputs": [
    {
     "data": {
      "text/plain": [
       "[2, 4, 6, 8, 10, 12, 14, 16, 18, 20]"
      ]
     },
     "execution_count": 5,
     "metadata": {},
     "output_type": "execute_result"
    }
   ],
   "source": [
    "from itertools import islice \n",
    "list(islice(evens(), 0, 10))"
   ]
  },
  {
   "attachments": {},
   "cell_type": "markdown",
   "metadata": {},
   "source": [
    "or, reusing integers from the course"
   ]
  },
  {
   "cell_type": "code",
   "execution_count": 21,
   "metadata": {},
   "outputs": [],
   "source": [
    "def integers():\n",
    "  a = 1\n",
    "  while True:\n",
    "    yield a\n",
    "    a += 1\n",
    "\n",
    "\n",
    "def even_integers():\n",
    "    for a in integers():\n",
    "        if a % 2 == 0:\n",
    "            # return a # <-- this fails \n",
    "            yield a  "
   ]
  },
  {
   "cell_type": "code",
   "execution_count": 22,
   "metadata": {},
   "outputs": [
    {
     "data": {
      "text/plain": [
       "[2, 4, 6, 8, 10, 12, 14, 16, 18, 20]"
      ]
     },
     "execution_count": 22,
     "metadata": {},
     "output_type": "execute_result"
    }
   ],
   "source": [
    "list(islice(even_integers(), 0, 10))"
   ]
  },
  {
   "attachments": {},
   "cell_type": "markdown",
   "metadata": {},
   "source": [
    "### Generate fibonacci numbers"
   ]
  },
  {
   "cell_type": "code",
   "execution_count": 23,
   "metadata": {},
   "outputs": [],
   "source": [
    "def fibonacci():\n",
    "    f_n1 = 0 \n",
    "    f_n2 = 1 \n",
    "    while True:\n",
    "        out = f_n1 + f_n2\n",
    "        yield out\n",
    "        f_n2 = f_n1\n",
    "        f_n1 = out"
   ]
  },
  {
   "cell_type": "code",
   "execution_count": 24,
   "metadata": {},
   "outputs": [
    {
     "data": {
      "text/plain": [
       "[1, 1, 2, 3, 5, 8, 13, 21, 34, 55]"
      ]
     },
     "execution_count": 24,
     "metadata": {},
     "output_type": "execute_result"
    }
   ],
   "source": [
    "list(islice(fibonacci(), 0, 10))"
   ]
  },
  {
   "attachments": {},
   "cell_type": "markdown",
   "metadata": {},
   "source": [
    "### using yield to send stuff"
   ]
  },
  {
   "cell_type": "code",
   "execution_count": 30,
   "metadata": {},
   "outputs": [
    {
     "name": "stdout",
     "output_type": "stream",
     "text": [
      "001: Mercury\n",
      "002: Venus\n",
      "003: Earth\n"
     ]
    }
   ],
   "source": [
    "def printer():\n",
    "    i = 1\n",
    "    while True:\n",
    "        x = yield\n",
    "        print(f\"{i:03}: {x}\")\n",
    "        i += 1\n",
    "\n",
    "p = printer()\n",
    "next(p)   # we need to advance the coroutine to the first yield\n",
    "p.send(\"Mercury\")\n",
    "p.send(\"Venus\")\n",
    "p.send(\"Earth\")"
   ]
  },
  {
   "attachments": {},
   "cell_type": "markdown",
   "metadata": {},
   "source": [
    "(futures = tasks (?))"
   ]
  },
  {
   "cell_type": "code",
   "execution_count": 31,
   "metadata": {},
   "outputs": [
    {
     "name": "stdout",
     "output_type": "stream",
     "text": [
      "Venus      000\n",
      "Venus      001\n",
      "Venus      002\n",
      "Venus      003\n",
      "Venus      004\n"
     ]
    }
   ],
   "source": [
    "import asyncio\n",
    "\n",
    "async def counter(name):\n",
    "  for i in range(5):\n",
    "    print(f\"{name:<10} {i:03}\")\n",
    "    await asyncio.sleep(0.2) # the task here is to sleep\n",
    "\n",
    "await counter(\"Venus\")"
   ]
  },
  {
   "cell_type": "code",
   "execution_count": 32,
   "metadata": {},
   "outputs": [
    {
     "name": "stdout",
     "output_type": "stream",
     "text": [
      "Earth      000\n",
      "Moon       000\n",
      "Earth      001\n",
      "Moon       001\n",
      "Earth      002\n",
      "Moon       002\n",
      "Earth      003\n",
      "Moon       003\n",
      "Earth      004\n",
      "Moon       004\n"
     ]
    },
    {
     "data": {
      "text/plain": [
       "[None, None]"
      ]
     },
     "execution_count": 32,
     "metadata": {},
     "output_type": "execute_result"
    }
   ],
   "source": [
    "await asyncio.gather(counter(\"Earth\"), counter(\"Moon\"))"
   ]
  },
  {
   "cell_type": "code",
   "execution_count": 34,
   "metadata": {},
   "outputs": [
    {
     "name": "stdout",
     "output_type": "stream",
     "text": [
      "Earth      000\n",
      "Moon       000\n",
      "Earth      001\n",
      "Moon       001\n",
      "Earth      002\n",
      "Moon       002\n",
      "Earth      003\n",
      "Moon       003\n",
      "Earth      004\n",
      "Moon       004\n"
     ]
    }
   ],
   "source": [
    "!python -m notebooks.async_counter # note the bug in the lesson materials"
   ]
  },
  {
   "attachments": {},
   "cell_type": "markdown",
   "metadata": {},
   "source": [
    "Timing async code"
   ]
  },
  {
   "cell_type": "code",
   "execution_count": 35,
   "metadata": {},
   "outputs": [],
   "source": [
    "from dataclasses import dataclass\n",
    "from typing import Optional\n",
    "from time import perf_counter\n",
    "from contextlib import asynccontextmanager\n",
    "\n",
    "\n",
    "@dataclass\n",
    "class Elapsed:\n",
    "    time: Optional[float] = None\n",
    "\n",
    "\n",
    "@asynccontextmanager\n",
    "async def timer():\n",
    "    e = Elapsed()\n",
    "    t = perf_counter()\n",
    "    yield e\n",
    "    e.time = perf_counter() - t"
   ]
  },
  {
   "cell_type": "code",
   "execution_count": 36,
   "metadata": {},
   "outputs": [
    {
     "name": "stdout",
     "output_type": "stream",
     "text": [
      "that took 0.20066843899985543 seconds\n"
     ]
    }
   ],
   "source": [
    "async with timer() as t:\n",
    "  await asyncio.sleep(0.2)\n",
    "print(f\"that took {t.time} seconds\")"
   ]
  },
  {
   "attachments": {},
   "cell_type": "markdown",
   "metadata": {},
   "source": [
    "### Compute pi again"
   ]
  },
  {
   "cell_type": "code",
   "execution_count": 37,
   "metadata": {},
   "outputs": [],
   "source": [
    "import random\n",
    "import numba\n",
    "\n",
    "\n",
    "@numba.njit(nogil=True)\n",
    "def calc_pi(N):\n",
    "    M = 0\n",
    "    for i in range(N):\n",
    "        # Simulate impact coordinates\n",
    "        x = random.uniform(-1, 1)\n",
    "        y = random.uniform(-1, 1)\n",
    "\n",
    "        # True if impact happens inside the circle\n",
    "        if x**2 + y**2 < 1.0:\n",
    "            M += 1\n",
    "    return 4 * M / N"
   ]
  },
  {
   "cell_type": "code",
   "execution_count": 39,
   "metadata": {},
   "outputs": [
    {
     "name": "stdout",
     "output_type": "stream",
     "text": [
      "that took 0.06433338900023955 seconds\n"
     ]
    }
   ],
   "source": [
    "async with timer() as t:\n",
    "    await asyncio.to_thread(calc_pi, 10**7)\n",
    "\n",
    "print(f\"that took {t.time} seconds\")"
   ]
  },
  {
   "cell_type": "code",
   "execution_count": null,
   "metadata": {},
   "outputs": [],
   "source": []
  }
 ],
 "metadata": {
  "kernelspec": {
   "display_name": "Python 3",
   "language": "python",
   "name": "python3"
  },
  "language_info": {
   "codemirror_mode": {
    "name": "ipython",
    "version": 3
   },
   "file_extension": ".py",
   "mimetype": "text/x-python",
   "name": "python",
   "nbconvert_exporter": "python",
   "pygments_lexer": "ipython3",
   "version": "3.10.9"
  },
  "orig_nbformat": 4
 },
 "nbformat": 4,
 "nbformat_minor": 2
}
